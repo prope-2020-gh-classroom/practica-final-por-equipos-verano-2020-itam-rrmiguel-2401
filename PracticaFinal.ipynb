{
 "cells": [
  {
   "cell_type": "markdown",
   "metadata": {},
   "source": [
    "# Práctica Final \n",
    "##### Por Mariana Lugo Ibarra y Miguel Ángel Reyes Retana."
   ]
  },
  {
   "cell_type": "code",
   "execution_count": 19,
   "metadata": {},
   "outputs": [],
   "source": [
    "options(repr.plot.width=8, repr.plot.height=8)\n",
    "library(readxl)\n",
    "library(ggplot2)\n",
    "library(dplyr)\n",
    "library(tidyverse)"
   ]
  },
  {
   "cell_type": "markdown",
   "metadata": {},
   "source": [
    "### Datos:"
   ]
  },
  {
   "cell_type": "markdown",
   "metadata": {},
   "source": [
    "$COVID-19$: "
   ]
  },
  {
   "cell_type": "markdown",
   "metadata": {},
   "source": [
    "$CONEVAL$: "
   ]
  },
  {
   "cell_type": "markdown",
   "metadata": {},
   "source": [
    "$Infonavit$: \n",
    "\n",
    "* Se utiliza la información del precio promedio de las viviendas a nivel municipal y salario diario integrado promedio de los acreditados por municipio con el objetivo de establecer municipios \"ricos\" y \"pobres\" y su relación con la información del COVID-19. \n",
    "* Los set de datos contienen la clave del muncipio donde se financió vivienda, el precio promedio por municipio, el salario diario integrado de los acreditados promedio por municipio, la proporción de créditos originados por año en cada municipio y el año de originación.*"
   ]
  },
  {
   "cell_type": "code",
   "execution_count": 34,
   "metadata": {},
   "outputs": [],
   "source": [
    "INF10<-read_excel(\"Datos/INFV2010.xlsx\")\n",
    "INF11<-read_excel(\"Datos/INFV2011.xlsx\")\n",
    "INF12<-read_excel(\"Datos/INFV2012.xlsx\")\n",
    "INF13<-read_excel(\"Datos/INFV2013.xlsx\")\n",
    "INF14<-read_excel(\"Datos/INFV2014.xlsx\")\n",
    "INF15<-read_excel(\"Datos/INFV2015.xlsx\")\n",
    "INF16<-read_excel(\"Datos/INFV2016.xlsx\")\n",
    "INF17<-read_excel(\"Datos/INFV2017.xlsx\")\n",
    "INF18<-read_excel(\"Datos/INFV2018.xlsx\")\n",
    "INF19<-read_excel(\"Datos/INFV2019.xlsx\")\n",
    "INF0620<-read_excel(\"Datos/INFV062020.xlsx\")"
   ]
  },
  {
   "cell_type": "code",
   "execution_count": 36,
   "metadata": {},
   "outputs": [
    {
     "data": {
      "text/html": [
       "<table>\n",
       "<caption>A tibble: 6 × 5</caption>\n",
       "<thead>\n",
       "\t<tr><th scope=col>CV_MUN</th><th scope=col>PRECIO_PROM</th><th scope=col>SDI_PROM</th><th scope=col>PC_CRED</th><th scope=col>YEAR</th></tr>\n",
       "\t<tr><th scope=col>&lt;chr&gt;</th><th scope=col>&lt;dbl&gt;</th><th scope=col>&lt;dbl&gt;</th><th scope=col>&lt;dbl&gt;</th><th scope=col>&lt;dbl&gt;</th></tr>\n",
       "</thead>\n",
       "<tbody>\n",
       "\t<tr><td>01001</td><td>332299.2</td><td>4.852961</td><td>1.220829e-02</td><td>2010</td></tr>\n",
       "\t<tr><td>01002</td><td>308960.0</td><td>6.135259</td><td>2.159995e-05</td><td>2010</td></tr>\n",
       "\t<tr><td>01003</td><td>244566.1</td><td>2.902301</td><td>6.911985e-05</td><td>2010</td></tr>\n",
       "\t<tr><td>01004</td><td>353464.8</td><td>4.365375</td><td>4.967989e-05</td><td>2010</td></tr>\n",
       "\t<tr><td>01005</td><td>422150.7</td><td>6.617866</td><td>2.246395e-03</td><td>2010</td></tr>\n",
       "\t<tr><td>01006</td><td>284349.8</td><td>4.151593</td><td>1.360797e-04</td><td>2010</td></tr>\n",
       "</tbody>\n",
       "</table>\n"
      ],
      "text/latex": [
       "A tibble: 6 × 5\n",
       "\\begin{tabular}{lllll}\n",
       " CV\\_MUN & PRECIO\\_PROM & SDI\\_PROM & PC\\_CRED & YEAR\\\\\n",
       " <chr> & <dbl> & <dbl> & <dbl> & <dbl>\\\\\n",
       "\\hline\n",
       "\t 01001 & 332299.2 & 4.852961 & 1.220829e-02 & 2010\\\\\n",
       "\t 01002 & 308960.0 & 6.135259 & 2.159995e-05 & 2010\\\\\n",
       "\t 01003 & 244566.1 & 2.902301 & 6.911985e-05 & 2010\\\\\n",
       "\t 01004 & 353464.8 & 4.365375 & 4.967989e-05 & 2010\\\\\n",
       "\t 01005 & 422150.7 & 6.617866 & 2.246395e-03 & 2010\\\\\n",
       "\t 01006 & 284349.8 & 4.151593 & 1.360797e-04 & 2010\\\\\n",
       "\\end{tabular}\n"
      ],
      "text/markdown": [
       "\n",
       "A tibble: 6 × 5\n",
       "\n",
       "| CV_MUN &lt;chr&gt; | PRECIO_PROM &lt;dbl&gt; | SDI_PROM &lt;dbl&gt; | PC_CRED &lt;dbl&gt; | YEAR &lt;dbl&gt; |\n",
       "|---|---|---|---|---|\n",
       "| 01001 | 332299.2 | 4.852961 | 1.220829e-02 | 2010 |\n",
       "| 01002 | 308960.0 | 6.135259 | 2.159995e-05 | 2010 |\n",
       "| 01003 | 244566.1 | 2.902301 | 6.911985e-05 | 2010 |\n",
       "| 01004 | 353464.8 | 4.365375 | 4.967989e-05 | 2010 |\n",
       "| 01005 | 422150.7 | 6.617866 | 2.246395e-03 | 2010 |\n",
       "| 01006 | 284349.8 | 4.151593 | 1.360797e-04 | 2010 |\n",
       "\n"
      ],
      "text/plain": [
       "  CV_MUN PRECIO_PROM SDI_PROM PC_CRED      YEAR\n",
       "1 01001  332299.2    4.852961 1.220829e-02 2010\n",
       "2 01002  308960.0    6.135259 2.159995e-05 2010\n",
       "3 01003  244566.1    2.902301 6.911985e-05 2010\n",
       "4 01004  353464.8    4.365375 4.967989e-05 2010\n",
       "5 01005  422150.7    6.617866 2.246395e-03 2010\n",
       "6 01006  284349.8    4.151593 1.360797e-04 2010"
      ]
     },
     "metadata": {},
     "output_type": "display_data"
    }
   ],
   "source": [
    "infonavit<-rbind(INF10,INF11, INF12,INF13,INF14,INF15,INF16,INF17,INF18,INF19,INF0620)\n",
    "head(infonavit)"
   ]
  },
  {
   "cell_type": "code",
   "execution_count": 45,
   "metadata": {},
   "outputs": [
    {
     "name": "stderr",
     "output_type": "stream",
     "text": [
      "`summarise()` ungrouping output (override with `.groups` argument)\n",
      "\n"
     ]
    },
    {
     "data": {
      "text/html": [
       "<table>\n",
       "<caption>A tibble: 6 × 3</caption>\n",
       "<thead>\n",
       "\t<tr><th scope=col>CV_MUN</th><th scope=col>precio_mean</th><th scope=col>salario_mean</th></tr>\n",
       "\t<tr><th scope=col>&lt;chr&gt;</th><th scope=col>&lt;dbl&gt;</th><th scope=col>&lt;dbl&gt;</th></tr>\n",
       "</thead>\n",
       "<tbody>\n",
       "\t<tr><td>01001</td><td>450371.7</td><td>4.767035</td></tr>\n",
       "\t<tr><td>01002</td><td>351536.1</td><td>3.952249</td></tr>\n",
       "\t<tr><td>01003</td><td>418039.4</td><td>3.360099</td></tr>\n",
       "\t<tr><td>01004</td><td>368355.9</td><td>3.782037</td></tr>\n",
       "\t<tr><td>01005</td><td>672823.9</td><td>7.371576</td></tr>\n",
       "\t<tr><td>01006</td><td>388481.6</td><td>4.334164</td></tr>\n",
       "</tbody>\n",
       "</table>\n"
      ],
      "text/latex": [
       "A tibble: 6 × 3\n",
       "\\begin{tabular}{lll}\n",
       " CV\\_MUN & precio\\_mean & salario\\_mean\\\\\n",
       " <chr> & <dbl> & <dbl>\\\\\n",
       "\\hline\n",
       "\t 01001 & 450371.7 & 4.767035\\\\\n",
       "\t 01002 & 351536.1 & 3.952249\\\\\n",
       "\t 01003 & 418039.4 & 3.360099\\\\\n",
       "\t 01004 & 368355.9 & 3.782037\\\\\n",
       "\t 01005 & 672823.9 & 7.371576\\\\\n",
       "\t 01006 & 388481.6 & 4.334164\\\\\n",
       "\\end{tabular}\n"
      ],
      "text/markdown": [
       "\n",
       "A tibble: 6 × 3\n",
       "\n",
       "| CV_MUN &lt;chr&gt; | precio_mean &lt;dbl&gt; | salario_mean &lt;dbl&gt; |\n",
       "|---|---|---|\n",
       "| 01001 | 450371.7 | 4.767035 |\n",
       "| 01002 | 351536.1 | 3.952249 |\n",
       "| 01003 | 418039.4 | 3.360099 |\n",
       "| 01004 | 368355.9 | 3.782037 |\n",
       "| 01005 | 672823.9 | 7.371576 |\n",
       "| 01006 | 388481.6 | 4.334164 |\n",
       "\n"
      ],
      "text/plain": [
       "  CV_MUN precio_mean salario_mean\n",
       "1 01001  450371.7    4.767035    \n",
       "2 01002  351536.1    3.952249    \n",
       "3 01003  418039.4    3.360099    \n",
       "4 01004  368355.9    3.782037    \n",
       "5 01005  672823.9    7.371576    \n",
       "6 01006  388481.6    4.334164    "
      ]
     },
     "metadata": {},
     "output_type": "display_data"
    }
   ],
   "source": [
    "df_inf<-infonavit %>% group_by(CV_MUN) %>% summarise(precio_mean=mean(PRECIO_PROM),\n",
    "                                                    salario_mean=mean(SDI_PROM))\n",
    "head(df_inf)"
   ]
  },
  {
   "cell_type": "markdown",
   "metadata": {},
   "source": [
    "Del 2010 al primer semestre del 2020 el Infonavit ha financiado viviendas en 1517 municipios."
   ]
  },
  {
   "cell_type": "code",
   "execution_count": 47,
   "metadata": {},
   "outputs": [
    {
     "data": {
      "text/html": [
       "<style>\n",
       ".list-inline {list-style: none; margin:0; padding: 0}\n",
       ".list-inline>li {display: inline-block}\n",
       ".list-inline>li:not(:last-child)::after {content: \"\\00b7\"; padding: 0 .5ex}\n",
       "</style>\n",
       "<ol class=list-inline><li>1517</li><li>3</li></ol>\n"
      ],
      "text/latex": [
       "\\begin{enumerate*}\n",
       "\\item 1517\n",
       "\\item 3\n",
       "\\end{enumerate*}\n"
      ],
      "text/markdown": [
       "1. 1517\n",
       "2. 3\n",
       "\n",
       "\n"
      ],
      "text/plain": [
       "[1] 1517    3"
      ]
     },
     "metadata": {},
     "output_type": "display_data"
    }
   ],
   "source": [
    "dim(df_inf)"
   ]
  }
 ],
 "metadata": {
  "kernelspec": {
   "display_name": "R",
   "language": "R",
   "name": "ir"
  },
  "language_info": {
   "codemirror_mode": "r",
   "file_extension": ".r",
   "mimetype": "text/x-r-source",
   "name": "R",
   "pygments_lexer": "r",
   "version": "3.6.3"
  }
 },
 "nbformat": 4,
 "nbformat_minor": 4
}
