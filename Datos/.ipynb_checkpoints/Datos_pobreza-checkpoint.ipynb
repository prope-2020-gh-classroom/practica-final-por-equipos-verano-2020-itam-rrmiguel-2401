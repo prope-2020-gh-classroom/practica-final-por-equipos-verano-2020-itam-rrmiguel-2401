{
 "cells": [
  {
   "cell_type": "code",
   "execution_count": 9,
   "metadata": {},
   "outputs": [],
   "source": [
    "library(tidyr)\n",
    "library(dplyr)\n",
    "library (datasets)\n",
    "options (repr.plot.width=5, repr.plot.heigth=5)\n",
    "library (readxl)\n",
    "library(tables)"
   ]
  },
  {
   "cell_type": "code",
   "execution_count": 10,
   "metadata": {},
   "outputs": [],
   "source": [
    "bd_pobreza <- read.csv (\"Concentrado_pobreza_municipios_2015.csv\")"
   ]
  },
  {
   "cell_type": "code",
   "execution_count": 11,
   "metadata": {},
   "outputs": [
    {
     "data": {
      "text/html": [
       "<table>\n",
       "<thead><tr><th scope=col>X</th><th scope=col>Entidad</th><th scope=col>Nombre_ent</th><th scope=col>cve_mun</th><th scope=col>mun</th><th scope=col>pob_2010</th><th scope=col>pob_2015</th><th scope=col>pob_porc_2010</th><th scope=col>pob_porc_2015</th><th scope=col>pob_per_2010</th><th scope=col>...</th><th scope=col>pob_ing_inf_personas_2015</th><th scope=col>pob_ing_inf_prom_2010</th><th scope=col>pob_ing_inf_prom_2015</th><th scope=col>pob_ing_inf_min_porc_2010</th><th scope=col>pob_ing_inf_min_porc_2015</th><th scope=col>pob_ing_inf_min_personas_2010</th><th scope=col>pob_ing_inf_min_personas_2015</th><th scope=col>pob_ing_inf_min_prom_2010</th><th scope=col>pob_ing_inf_min_prom_2015</th><th scope=col>X.1</th></tr></thead>\n",
       "<tbody>\n",
       "\t<tr><td>NA                 </td><td>01                 </td><td>Aguascalientes     </td><td>1001               </td><td>Aguascalientes     </td><td>801,807            </td><td>861,446            </td><td>30.2               </td><td>26.1               </td><td>242,317            </td><td>...                </td><td>323,590            </td><td>1.4                </td><td>1.2                </td><td> 9.9               </td><td>10.0               </td><td>79,703             </td><td>86,166             </td><td>1.8                </td><td>1.5                </td><td>NA                 </td></tr>\n",
       "\t<tr><td>NA                 </td><td>01                 </td><td>Aguascalientes     </td><td>1002               </td><td>Asientos           </td><td>48,358             </td><td>46,624             </td><td>65.5               </td><td>54.0               </td><td>31,694             </td><td>...                </td><td>28,745             </td><td>1.8                </td><td>1.6                </td><td>33.8               </td><td>24.4               </td><td>16,326             </td><td>11,394             </td><td>2.0                </td><td>1.7                </td><td>NA                 </td></tr>\n",
       "\t<tr><td>NA                 </td><td>01                 </td><td>Aguascalientes     </td><td>1003               </td><td>Calvillo           </td><td>57,627             </td><td>52,773             </td><td>68.4               </td><td>56.8               </td><td>39,419             </td><td>...                </td><td>33,299             </td><td>1.8                </td><td>1.5                </td><td>33.9               </td><td>26.8               </td><td>19,519             </td><td>14,118             </td><td>1.9                </td><td>1.6                </td><td>NA                 </td></tr>\n",
       "\t<tr><td>NA                 </td><td>01                 </td><td>Aguascalientes     </td><td>1004               </td><td>Cosío              </td><td>14,929             </td><td>15,321             </td><td>54.2               </td><td>43.2               </td><td>8,091              </td><td>...                </td><td>7,852              </td><td>1.7                </td><td>1.4                </td><td>22.3               </td><td>16.6               </td><td>3,331              </td><td>2,546              </td><td>1.9                </td><td>1.6                </td><td>NA                 </td></tr>\n",
       "\t<tr><td>NA                 </td><td>01                 </td><td>Aguascalientes     </td><td>1005               </td><td>Jesús María        </td><td>102,211            </td><td>125,750            </td><td>42.4               </td><td>25.0               </td><td>43,315             </td><td>...                </td><td>39,794             </td><td>1.7                </td><td>1.5                </td><td>16.9               </td><td>7.9                </td><td>17,287             </td><td>9,984              </td><td>2.1                </td><td>1.7                </td><td>NA                 </td></tr>\n",
       "\t<tr><td>NA                 </td><td>01                 </td><td>Aguascalientes     </td><td>1006               </td><td>Pabellón de Arteaga</td><td>40,659             </td><td>45,733             </td><td>51.1               </td><td>34.9               </td><td>20,759             </td><td>...                </td><td>20,794             </td><td>1.7                </td><td>1.3                </td><td>20.8               </td><td>13.8               </td><td>8,474              </td><td>6,305              </td><td>2.0                </td><td>1.6                </td><td>NA                 </td></tr>\n",
       "</tbody>\n",
       "</table>\n"
      ],
      "text/latex": [
       "\\begin{tabular}{r|llllllllllllllllllllllllllllllllllllllllllllllllllllllllllllllllllllllllllllllllllllllllllllllllllll}\n",
       " X & Entidad & Nombre\\_ent & cve\\_mun & mun & pob\\_2010 & pob\\_2015 & pob\\_porc\\_2010 & pob\\_porc\\_2015 & pob\\_per\\_2010 & ... & pob\\_ing\\_inf\\_personas\\_2015 & pob\\_ing\\_inf\\_prom\\_2010 & pob\\_ing\\_inf\\_prom\\_2015 & pob\\_ing\\_inf\\_min\\_porc\\_2010 & pob\\_ing\\_inf\\_min\\_porc\\_2015 & pob\\_ing\\_inf\\_min\\_personas\\_2010 & pob\\_ing\\_inf\\_min\\_personas\\_2015 & pob\\_ing\\_inf\\_min\\_prom\\_2010 & pob\\_ing\\_inf\\_min\\_prom\\_2015 & X.1\\\\\n",
       "\\hline\n",
       "\t NA                  & 01                  & Aguascalientes      & 1001                & Aguascalientes      & 801,807             & 861,446             & 30.2                & 26.1                & 242,317             & ...                 & 323,590             & 1.4                 & 1.2                 &  9.9                & 10.0                & 79,703              & 86,166              & 1.8                 & 1.5                 & NA                 \\\\\n",
       "\t NA                  & 01                  & Aguascalientes      & 1002                & Asientos            & 48,358              & 46,624              & 65.5                & 54.0                & 31,694              & ...                 & 28,745              & 1.8                 & 1.6                 & 33.8                & 24.4                & 16,326              & 11,394              & 2.0                 & 1.7                 & NA                 \\\\\n",
       "\t NA                  & 01                  & Aguascalientes      & 1003                & Calvillo            & 57,627              & 52,773              & 68.4                & 56.8                & 39,419              & ...                 & 33,299              & 1.8                 & 1.5                 & 33.9                & 26.8                & 19,519              & 14,118              & 1.9                 & 1.6                 & NA                 \\\\\n",
       "\t NA                  & 01                  & Aguascalientes      & 1004                & Cosío               & 14,929              & 15,321              & 54.2                & 43.2                & 8,091               & ...                 & 7,852               & 1.7                 & 1.4                 & 22.3                & 16.6                & 3,331               & 2,546               & 1.9                 & 1.6                 & NA                 \\\\\n",
       "\t NA                  & 01                  & Aguascalientes      & 1005                & Jesús María         & 102,211             & 125,750             & 42.4                & 25.0                & 43,315              & ...                 & 39,794              & 1.7                 & 1.5                 & 16.9                & 7.9                 & 17,287              & 9,984               & 2.1                 & 1.7                 & NA                 \\\\\n",
       "\t NA                  & 01                  & Aguascalientes      & 1006                & Pabellón de Arteaga & 40,659              & 45,733              & 51.1                & 34.9                & 20,759              & ...                 & 20,794              & 1.7                 & 1.3                 & 20.8                & 13.8                & 8,474               & 6,305               & 2.0                 & 1.6                 & NA                 \\\\\n",
       "\\end{tabular}\n"
      ],
      "text/markdown": [
       "\n",
       "| X | Entidad | Nombre_ent | cve_mun | mun | pob_2010 | pob_2015 | pob_porc_2010 | pob_porc_2015 | pob_per_2010 | ... | pob_ing_inf_personas_2015 | pob_ing_inf_prom_2010 | pob_ing_inf_prom_2015 | pob_ing_inf_min_porc_2010 | pob_ing_inf_min_porc_2015 | pob_ing_inf_min_personas_2010 | pob_ing_inf_min_personas_2015 | pob_ing_inf_min_prom_2010 | pob_ing_inf_min_prom_2015 | X.1 |\n",
       "|---|---|---|---|---|---|---|---|---|---|---|---|---|---|---|---|---|---|---|---|---|\n",
       "| NA                  | 01                  | Aguascalientes      | 1001                | Aguascalientes      | 801,807             | 861,446             | 30.2                | 26.1                | 242,317             | ...                 | 323,590             | 1.4                 | 1.2                 |  9.9                | 10.0                | 79,703              | 86,166              | 1.8                 | 1.5                 | NA                  |\n",
       "| NA                  | 01                  | Aguascalientes      | 1002                | Asientos            | 48,358              | 46,624              | 65.5                | 54.0                | 31,694              | ...                 | 28,745              | 1.8                 | 1.6                 | 33.8                | 24.4                | 16,326              | 11,394              | 2.0                 | 1.7                 | NA                  |\n",
       "| NA                  | 01                  | Aguascalientes      | 1003                | Calvillo            | 57,627              | 52,773              | 68.4                | 56.8                | 39,419              | ...                 | 33,299              | 1.8                 | 1.5                 | 33.9                | 26.8                | 19,519              | 14,118              | 1.9                 | 1.6                 | NA                  |\n",
       "| NA                  | 01                  | Aguascalientes      | 1004                | Cosío               | 14,929              | 15,321              | 54.2                | 43.2                | 8,091               | ...                 | 7,852               | 1.7                 | 1.4                 | 22.3                | 16.6                | 3,331               | 2,546               | 1.9                 | 1.6                 | NA                  |\n",
       "| NA                  | 01                  | Aguascalientes      | 1005                | Jesús María         | 102,211             | 125,750             | 42.4                | 25.0                | 43,315              | ...                 | 39,794              | 1.7                 | 1.5                 | 16.9                | 7.9                 | 17,287              | 9,984               | 2.1                 | 1.7                 | NA                  |\n",
       "| NA                  | 01                  | Aguascalientes      | 1006                | Pabellón de Arteaga | 40,659              | 45,733              | 51.1                | 34.9                | 20,759              | ...                 | 20,794              | 1.7                 | 1.3                 | 20.8                | 13.8                | 8,474               | 6,305               | 2.0                 | 1.6                 | NA                  |\n",
       "\n"
      ],
      "text/plain": [
       "  X  Entidad Nombre_ent     cve_mun mun                 pob_2010 pob_2015\n",
       "1 NA 01      Aguascalientes 1001    Aguascalientes      801,807  861,446 \n",
       "2 NA 01      Aguascalientes 1002    Asientos            48,358   46,624  \n",
       "3 NA 01      Aguascalientes 1003    Calvillo            57,627   52,773  \n",
       "4 NA 01      Aguascalientes 1004    Cosío               14,929   15,321  \n",
       "5 NA 01      Aguascalientes 1005    Jesús María         102,211  125,750 \n",
       "6 NA 01      Aguascalientes 1006    Pabellón de Arteaga 40,659   45,733  \n",
       "  pob_porc_2010 pob_porc_2015 pob_per_2010 ... pob_ing_inf_personas_2015\n",
       "1 30.2          26.1          242,317      ... 323,590                  \n",
       "2 65.5          54.0          31,694       ... 28,745                   \n",
       "3 68.4          56.8          39,419       ... 33,299                   \n",
       "4 54.2          43.2          8,091        ... 7,852                    \n",
       "5 42.4          25.0          43,315       ... 39,794                   \n",
       "6 51.1          34.9          20,759       ... 20,794                   \n",
       "  pob_ing_inf_prom_2010 pob_ing_inf_prom_2015 pob_ing_inf_min_porc_2010\n",
       "1 1.4                   1.2                    9.9                     \n",
       "2 1.8                   1.6                   33.8                     \n",
       "3 1.8                   1.5                   33.9                     \n",
       "4 1.7                   1.4                   22.3                     \n",
       "5 1.7                   1.5                   16.9                     \n",
       "6 1.7                   1.3                   20.8                     \n",
       "  pob_ing_inf_min_porc_2015 pob_ing_inf_min_personas_2010\n",
       "1 10.0                      79,703                       \n",
       "2 24.4                      16,326                       \n",
       "3 26.8                      19,519                       \n",
       "4 16.6                      3,331                        \n",
       "5 7.9                       17,287                       \n",
       "6 13.8                      8,474                        \n",
       "  pob_ing_inf_min_personas_2015 pob_ing_inf_min_prom_2010\n",
       "1 86,166                        1.8                      \n",
       "2 11,394                        2.0                      \n",
       "3 14,118                        1.9                      \n",
       "4 2,546                         1.9                      \n",
       "5 9,984                         2.1                      \n",
       "6 6,305                         2.0                      \n",
       "  pob_ing_inf_min_prom_2015 X.1\n",
       "1 1.5                       NA \n",
       "2 1.7                       NA \n",
       "3 1.6                       NA \n",
       "4 1.6                       NA \n",
       "5 1.7                       NA \n",
       "6 1.6                       NA "
      ]
     },
     "metadata": {},
     "output_type": "display_data"
    }
   ],
   "source": [
    "head (bd_pobreza)"
   ]
  },
  {
   "cell_type": "code",
   "execution_count": 19,
   "metadata": {},
   "outputs": [
    {
     "name": "stdout",
     "output_type": "stream",
     "text": [
      "'data.frame':\t2469 obs. of  100 variables:\n",
      " $ X                                 : logi  NA NA NA NA NA NA ...\n",
      " $ Entidad                           : Factor w/ 42 levels \"\",\"               Algunas cifras pueden variar por cuestiones de redondeo.\",..: 9 9 9 9 9 9 9 9 9 9 ...\n",
      " $ Nombre_ent                        : Factor w/ 33 levels \"\",\"Aguascalientes\",..: 2 2 2 2 2 2 2 2 2 2 ...\n",
      " $ cve_mun                           : int  1001 1002 1003 1004 1005 1006 1007 1008 1009 1010 ...\n",
      " $ mun                               : Factor w/ 2318 levels \"\",\"Abalá\",\"Abasolo\",..: 37 129 241 435 762 1076 1171 1339 1986 525 ...\n",
      " $ pob_2010                          : Factor w/ 2387 levels \"\",\"1,002\",\"1,009\",..: 2230 1662 1842 460 219 1562 1664 2025 875 645 ...\n",
      " $ pob_2015                          : Factor w/ 2370 levels \"\",\"1,002\",\"1,005\",..: 2220 1616 1784 501 368 1607 1765 2170 853 716 ...\n",
      " $ pob_porc_2010                     : num  30.2 65.5 68.4 54.2 42.4 51.1 51.2 65.8 65.8 66.2 ...\n",
      " $ pob_porc_2015                     : Factor w/ 778 levels \"\",\"10.2\",\"10.7\",..: 74 325 353 223 68 141 290 380 296 336 ...\n",
      " $ pob_per_2010                      : Factor w/ 2341 levels \"\",\"1,001\",\"1,005\",..: 1014 1313 1424 2130 1573 904 1007 1503 439 344 ...\n",
      " $ pob_per_2015                      : Factor w/ 2336 levels \"\",\"1,000\",\"1,009\",..: 964 1022 1119 1858 1273 543 1029 1641 220 265 ...\n",
      " $ pob_carencia_2010                 : num  1.9 2 1.9 1.9 2 2 2.3 2 1.9 2.2 ...\n",
      " $ pob_carencia_2015                 : Factor w/ 30 levels \"\",\"1.3\",\"1.4\",..: 7 7 6 6 8 6 6 6 6 7 ...\n",
      " $ pob_ext_porc_2010                 : num  2.2 8.5 7.6 5.3 5.1 5.8 9.1 12.7 9 12.6 ...\n",
      " $ pob_ext_porc_2015                 : Factor w/ 614 levels \"\",\"0.0\",\"0.1\",..: 18 335 231 130 19 124 233 411 231 411 ...\n",
      " $ pob_ext_per_2010                  : Factor w/ 2092 levels \"\",\"1,001\",\"1,004\",..: 567 1309 1342 1907 1526 706 1348 2058 305 693 ...\n",
      " $ pob_ext_per_2015                  : Factor w/ 1988 levels \"\",\"0\",\"1\",\"1,000\",..: 493 635 265 1366 646 5 270 1389 1653 35 ...\n",
      " $ pob_ext_carencia_2010             : num  3.4 3.5 3.4 3.4 3.4 3.3 3.5 3.4 3.4 3.5 ...\n",
      " $ pob_ext_carencia_2015             : Factor w/ 17 levels \"\",\"3.0\",\"3.1\",..: 6 5 5 6 7 6 5 4 5 6 ...\n",
      " $ pob_mod_porc_2010                 : num  28.1 57 60.8 48.9 37.2 45.3 42.1 53 56.8 53.6 ...\n",
      " $ pob_mod_porc_2015                 : Factor w/ 545 levels \"\",\"10.4\",\"10.5\",..: 83 332 375 241 74 162 305 382 312 334 ...\n",
      " $ pob_mod_per_2010                  : Factor w/ 2260 levels \"\",\"1,004\",\"1,008\",..: 951 1046 1296 1922 1335 621 881 1198 348 2211 ...\n",
      " $ pob_mod_per_2015                  : Factor w/ 2283 levels \"\",\"1,001\",\"1,005\",..: 904 936 1035 1767 1048 489 950 1447 2219 2235 ...\n",
      " $ pob_mod_carencia_2010             : num  1.7 1.7 1.7 1.8 1.9 1.8 2 1.7 1.7 1.9 ...\n",
      " $ pob_mod_carencia_2015             : Factor w/ 21 levels \"\",\"1.3\",\"1.4\",..: 6 6 5 5 7 5 5 4 5 6 ...\n",
      " $ car_social_porc_2010              : num  27 22.4 22.8 28.5 28.4 22.8 25.5 17.2 22.8 22.5 ...\n",
      " $ car_social_porc_2015              : Factor w/ 521 levels \"\",\"0.1\",\"0.3\",..: 193 219 205 266 319 241 161 151 251 189 ...\n",
      " $ car_social_per_2010               : Factor w/ 2107 levels \"\",\"1,004\",\"1,006\",..: 880 324 438 1295 991 2023 398 101 1356 1286 ...\n",
      " $ car_social_per_2015               : Factor w/ 2063 levels \"\",\"1\",\"1,003\",..: 851 425 470 1413 1387 438 348 256 1608 1426 ...\n",
      " $ car_social_carencia_2010          : num  1.7 1.7 1.7 1.7 1.7 1.7 1.9 1.6 1.7 1.8 ...\n",
      " $ car_social_carencia_2015          : Factor w/ 27 levels \"\",\"1.2\",\"1.3\",..: 6 6 6 4 7 6 6 4 5 6 ...\n",
      " $ vulnerable_ingreso_porc_2010      : num  9 5.3 3.5 5.7 7.4 7.9 5.3 4.9 5.7 4 ...\n",
      " $ vulnerable_ingreso_porc_2015      : Factor w/ 192 levels \"\",\"0.0\",\"0.1\",..: 37 169 155 172 158 27 191 136 163 174 ...\n",
      " $ vulnerable_ingreso_per_2010       : Factor w/ 1182 levels \"\",\"0\",\"1\",\"1,000\",..: 1018 397 339 1106 1001 566 401 667 53 1030 ...\n",
      " $ vulnerable_ingreso_per_2015       : Factor w/ 1265 levels \"\",\"0\",\"1\",\"1,007\",..: 1258 620 613 64 1160 780 884 732 112 147 ...\n",
      " $ no_pobre_no_vul_porc_2010         : num  33.8 6.8 5.3 11.6 21.8 18.3 18 12.1 5.7 7.3 ...\n",
      " $ no_pobre_no_vul_porc_2015         : Factor w/ 365 levels \"\",\"0.0\",\"0.1\",..: 256 358 358 83 223 169 90 60 33 30 ...\n",
      " $ no_pobre_no_vul_personas_2010     : Factor w/ 1453 levels \"\",\"0\",\"1\",\"1,003\",..: 669 732 713 176 594 1246 1321 1365 57 92 ...\n",
      " $ no_pobre_no_vul_personas_2015     : Factor w/ 1531 levels \"\",\"0\",\"1\",\"1,001\",..: 823 947 981 535 901 260 1392 67 504 488 ...\n",
      " $ rezago_ed_porc_2010               : num  14.8 22.6 28.3 20.9 20.7 19.4 20.8 19.1 21.7 26.6 ...\n",
      " $ rezago_ed_porc_2015               : Factor w/ 453 levels \"\",\"10.0\",\"10.1\",..: 19 99 134 49 74 55 48 55 110 98 ...\n",
      " $ rezago_ed_personas_2010           : Factor w/ 2235 levels \"\",\"1,000\",\"1,001\",..: 434 365 601 1102 947 1959 323 135 1414 1465 ...\n",
      " $ rezago_ed_personas_2015           : Factor w/ 2183 levels \"\",\"1,000\",\"1,001\",..: 347 2094 416 717 922 1841 1875 119 1342 1186 ...\n",
      " $ rezago_ed_prom_2010               : num  2.1 2.5 2.3 2.4 2.3 2.5 2.7 2.5 2.4 2.6 ...\n",
      " $ rezago_ed_prom_2015               : Factor w/ 34 levels \"\",\"1.4\",\"1.6\",..: 8 10 9 8 10 8 9 9 9 10 ...\n",
      " $ rezago_ss_porc_2010               : num  21.9 13.8 18.3 11.9 13.3 17.2 18 9.4 10.1 14.2 ...\n",
      " $ rezago_ss_porc_2015               : Factor w/ 327 levels \"\",\"0.9\",\"1.1\",..: 58 286 326 278 59 12 10 275 310 318 ...\n",
      " $ rezago_ss_personas_2010           : Factor w/ 2232 levels \"\",\"1,002\",\"1,003\",..: 605 1806 312 230 460 1838 2081 1884 690 805 ...\n",
      " $ rezago_ss_personas_2015           : Factor w/ 1969 levels \"\",\"1,000\",\"1,002\",..: 430 757 1391 1863 578 1280 1394 1344 244 278 ...\n",
      " $ rezago_ss_prom_2010               : num  2.3 2.4 2.4 2.6 2.4 2.6 2.7 2.6 2.8 2.7 ...\n",
      " $ rezago_ss_prom_2015               : Factor w/ 33 levels \"\",\"1.8\",\"2.0\",..: 7 9 7 8 8 8 7 7 8 11 ...\n",
      " $ rezago_seg_soc_porc_2010          : num  41.6 75.5 82.5 70.2 54.2 54.3 64.8 76.7 73.8 75.4 ...\n",
      " $ rezago_seg_soc_porc_2015          : Factor w/ 588 levels \"\",\"19.8\",\"20.1\",..: 53 319 365 259 113 149 241 376 311 270 ...\n",
      " $ rezago_seg_soc_personas_2010      : Factor w/ 2356 levels \"\",\"1,004\",\"1,006\",..: 1401 1443 1671 205 1836 968 1361 1742 518 428 ...\n",
      " $ rezago_seg_soc_personas_2015      : Factor w/ 2334 levels \"\",\"1,005,629\",..: 1300 1304 1417 2268 1781 960 1277 1845 451 373 ...\n",
      " $ rezago_seg_soc_prom_2010          : num  2 2 1.9 1.9 2.1 2.1 2.3 2 2 2.2 ...\n",
      " $ rezago_seg_soc_prom_2015          : Factor w/ 33 levels \"\",\"1.2\",\"1.3\",..: 9 8 7 6 10 8 8 6 7 9 ...\n",
      " $ rezago_vivienda_porc_2010         : num  4.6 11.1 9.8 12.8 13.2 8.5 13.5 10.1 12.9 12 ...\n",
      " $ rezago_vivienda_porc_2015         : Factor w/ 529 levels \"\",\"1.0\",\"1.1\",..: 227 497 402 498 510 408 497 462 455 510 ...\n",
      " $ rezago_vivienda_personas_2010     : Factor w/ 2119 levels \"\",\"0\",\"1,001\",..: 1285 1531 1561 316 495 1144 1705 1882 844 731 ...\n",
      " $ rezago_vivienda_personas_2015     : Factor w/ 2059 levels \"\",\"1,003\",\"1,004\",..: 1216 1140 866 95 387 848 1189 1627 108 248 ...\n",
      " $ rezago_vivienda_prom_2010         : Factor w/ 38 levels \"\",\"1.9\",\"2.0\",..: 9 13 13 12 11 10 16 16 14 16 ...\n",
      " $ rezago_vivienda_prom_2015         : Factor w/ 33 levels \"\",\"1.4\",\"1.6\",..: 11 14 13 14 13 13 12 14 13 14 ...\n",
      " $ rezago_serv_vivienda_porc_2010    : num  3.4 11.3 8.3 6.6 5.5 6.4 7.1 13.9 9.9 13.6 ...\n",
      " $ rezago_serv_vivienda_porc_2015    : Factor w/ 916 levels \"\",\"0.0\",\"0.1\",..: 219 83 618 617 515 423 618 716 27 91 ...\n",
      " $ rezago_serv_vivienda_personas_2010: Factor w/ 2250 levels \"\",\"1,000\",\"1,001\",..: 1056 1666 1500 2241 1679 829 1176 2250 708 811 ...\n",
      " $ rezago_serv_vivienda_personas_2015: Factor w/ 2244 levels \"\",\"1,002\",\"1,003\",..: 1009 1974 1375 52 2001 823 1247 2025 710 1157 ...\n",
      " $ rezago_serv_vivienda_prom_2010    : num  2.6 3.1 3 3 3.2 3 3.7 3.1 3 3.4 ...\n",
      " $ rezago_serv_vivienda_prom_2015    : Factor w/ 28 levels \"\",\"1.8\",\"1.9\",..: 13 10 11 12 12 12 11 10 10 10 ...\n",
      " $ rezago_alimentacion_porc_2010     : num  15.6 31.5 19.3 30.5 27.4 34 40.4 32.1 35.8 41.4 ...\n",
      " $ rezago_alimentacion_porc_2015     : Factor w/ 524 levels \"\",\"0.0\",\"0.5\",..: 89 163 82 123 96 103 143 125 130 164 ...\n",
      " $ rezago_alimentacion_personas_2010 : Factor w/ 2192 levels \"\",\"0\",\"1,008\",..: 444 540 359 1428 1032 479 673 758 1891 1907 ...\n",
      " $ rezago_alimentacion_personas_2015 : Factor w/ 2126 levels \"\",\"0\",\"1,004\",..: 520 362 2028 1002 877 1957 367 251 1294 1356 ...\n",
      " $ rezago_alimentacion_prom_2010     : Factor w/ 37 levels \"\",\"1.8\",\"2.0\",..: 5 9 10 8 8 5 10 10 7 9 ...\n",
      " $ rezago_alimentacion_prom_2015     : Factor w/ 33 levels \"\",\"1.6\",\"1.7\",..: 5 10 10 9 8 7 8 9 9 10 ...\n",
      " $ pob_1_carencia_porc_2010          : num  57.2 87.9 91.2 82.7 70.7 73.9 76.6 83 88.6 88.7 ...\n",
      " $ pob_1_carencia_porc_2015          : Factor w/ 463 levels \"\",\"100.0\",\"31.6\",..: 51 293 306 223 121 135 202 281 282 273 ...\n",
      " $ pob_1_carencia_personas_2010      : Factor w/ 2372 levels \"\",\"1,005\",\"1,009\",..: 1665 1617 1820 325 2116 1290 1420 1788 662 559 ...\n",
      " $ pob_1_carencia_personas_2015      : Factor w/ 2366 levels \"\",\"1,003\",\"1,007\",..: 1656 1438 1632 284 2132 1146 1419 2012 589 563 ...\n",
      " $ pob_1_carencia_prom_2010          : num  1.8 1.9 1.8 1.9 1.9 1.9 2.1 1.9 1.9 2.1 ...\n",
      " $ pob_1_carencia_prom_2015          : Factor w/ 30 levels \"\",\"1.2\",\"1.3\",..: 7 7 6 6 8 6 7 6 7 8 ...\n",
      " $ pob_3_carencias_porc_2010         : num  9.4 18.4 16.7 17.3 16.6 17.4 24.8 20.5 18 25.3 ...\n",
      " $ pob_3_carencias_porc_2015         : Factor w/ 757 levels \"\",\"1.0\",\"1.5\",..: 632 46 10 754 18 747 11 6 17 49 ...\n",
      " $ pob_3_carencias_personas_2010     : Factor w/ 2257 levels \"\",\"1,001\",\"1,002\",..: 2015 2102 2184 829 598 1916 387 122 1221 1480 ...\n",
      " $ pob_3_carencias_personas_2015     : Factor w/ 2214 levels \"\",\"1,000\",\"1,002\",..: 1823 1767 1602 157 492 1347 1582 2112 749 871 ...\n",
      " $ pob_3_carencias_prom_2010         : num  3.3 3.4 3.3 3.3 3.3 3.2 3.4 3.4 3.4 3.4 ...\n",
      " $ pob_3_carencias_prom_2015         : Factor w/ 16 levels \"\",\"3.0\",\"3.1\",..: 5 5 4 5 5 5 5 4 4 5 ...\n",
      " $ pob_ing_inf_porc_2010             : num  39.2 70.8 71.9 59.9 49.8 58.9 56.5 70.7 71.5 70.2 ...\n",
      " $ pob_ing_inf_porc_2015             : Factor w/ 716 levels \"\",\"10.0\",\"11.3\",..: 108 336 350 231 65 175 317 360 295 351 ...\n",
      " $ pob_ing_inf_personas_2010         : Factor w/ 2339 levels \"\",\"1,000\",\"1,016\",..: 1321 1353 1558 2188 1746 981 1065 1648 497 376 ...\n",
      " $ pob_ing_inf_personas_2015         : Factor w/ 2336 levels \"\",\"1,003\",\"1,004\",..: 1293 1087 1300 2052 1403 873 1254 1676 297 370 ...\n",
      " $ pob_ing_inf_prom_2010             : num  1.4 1.8 1.8 1.7 1.7 1.7 2.1 1.9 1.8 2 ...\n",
      " $ pob_ing_inf_prom_2015             : Factor w/ 35 levels \"\",\"0.8\",\"0.9\",..: 6 10 9 8 9 7 9 10 9 10 ...\n",
      " $ pob_ing_inf_min_porc_2010         : num  9.9 33.8 33.9 22.3 16.9 20.8 21.6 37.6 33.3 34.4 ...\n",
      " $ pob_ing_inf_min_porc_2015         : Factor w/ 803 levels \"\",\"0.5\",\"0.6\",..: 9 156 180 74 602 46 141 194 122 175 ...\n",
      " $ pob_ing_inf_min_personas_2010     : Factor w/ 2238 levels \"\",\"1,008\",\"1,011\",..: 2000 529 629 1101 562 2052 294 810 1814 1743 ...\n",
      " $ pob_ing_inf_min_personas_2015     : Factor w/ 2245 levels \"\",\"1,001\",\"1,003\",..: 2132 342 468 774 2207 1812 356 754 1417 1630 ...\n",
      " $ pob_ing_inf_min_prom_2010         : num  1.8 2 1.9 1.9 2.1 2 2.4 2.2 2 2.3 ...\n",
      " $ pob_ing_inf_min_prom_2015         : Factor w/ 37 levels \"\",\"0.8\",\"0.9\",..: 9 11 10 10 11 10 11 12 11 12 ...\n",
      "  [list output truncated]\n"
     ]
    }
   ],
   "source": [
    "str(bd_pobreza)"
   ]
  },
  {
   "cell_type": "code",
   "execution_count": 15,
   "metadata": {},
   "outputs": [],
   "source": [
    "bd_pobreza$Nombre_ent <- factor (bd_pobreza$Nombre_ent)"
   ]
  },
  {
   "cell_type": "code",
   "execution_count": 25,
   "metadata": {},
   "outputs": [
    {
     "ename": "ERROR",
     "evalue": "Error in tabledims(e[[2]]): Need an expression\n",
     "output_type": "error",
     "traceback": [
      "Error in tabledims(e[[2]]): Need an expression\nTraceback:\n",
      "1. tabular(\"Nombre_ent\" ~ pob_2010 + pob_2015)",
      "2. tabular.formula(\"Nombre_ent\" ~ pob_2010 + pob_2015)",
      "3. tabledims(table)",
      "4. tabledims(e[[2]])",
      "5. stop(\"Need an expression\")"
     ]
    }
   ],
   "source": [
    "#ttDescr  <- tabular ('Nombre_ent' ~\n",
    "#                     pob_2010 + pob_2015)\n",
    "#                    (mean +sd) + \n",
    "#                    (n=1)\n",
    "#                    data = bd_pobreza "
   ]
  },
  {
   "cell_type": "code",
   "execution_count": 24,
   "metadata": {},
   "outputs": [
    {
     "ename": "ERROR",
     "evalue": "Error in as.formula(table, env = parent.frame()): el argumento \"table\" está ausente, sin valor por omisión\n",
     "output_type": "error",
     "traceback": [
      "Error in as.formula(table, env = parent.frame()): el argumento \"table\" está ausente, sin valor por omisión\nTraceback:\n",
      "1. tabular(ent = \"Nombre_ent\")",
      "2. tabular.default(ent = \"Nombre_ent\")",
      "3. tabular.formula(as.formula(table, env = parent.frame()), ...)",
      "4. as.formula(table, env = parent.frame())"
     ]
    }
   ],
   "source": [
    "tt <- tabular (ent = 'Nombre_ent')"
   ]
  },
  {
   "cell_type": "code",
   "execution_count": null,
   "metadata": {},
   "outputs": [],
   "source": []
  }
 ],
 "metadata": {
  "kernelspec": {
   "display_name": "R",
   "language": "R",
   "name": "ir"
  },
  "language_info": {
   "codemirror_mode": "r",
   "file_extension": ".r",
   "mimetype": "text/x-r-source",
   "name": "R",
   "pygments_lexer": "r",
   "version": "3.6.1"
  }
 },
 "nbformat": 4,
 "nbformat_minor": 4
}
