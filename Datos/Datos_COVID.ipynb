{
 "cells": [
  {
   "cell_type": "code",
   "execution_count": 7,
   "metadata": {},
   "outputs": [],
   "source": [
    "#BAse de datos\n",
    "library (ggplot2)\n",
    "library(tidyr)\n",
    "library(dplyr)\n",
    "library (datasets)\n",
    "options (repr.plot.width=5, repr.plot.heigth=5)"
   ]
  },
  {
   "cell_type": "code",
   "execution_count": 9,
   "metadata": {},
   "outputs": [],
   "source": [
    "#Base de datos con casos confirmados\n",
    "BD_confirmados <- read.csv (\"https://raw.githubusercontent.com/PADeCI/covid19-mx-data/master/data/state/covid_ssa_state_2020-07-17.csv\")"
   ]
  },
  {
   "cell_type": "code",
   "execution_count": 13,
   "metadata": {},
   "outputs": [],
   "source": [
    "BD_2020_07_17 <- read.csv (\"Casos_Diarios_Municipio_Confirmados_20200717.csv\")"
   ]
  },
  {
   "cell_type": "code",
   "execution_count": 14,
   "metadata": {},
   "outputs": [
    {
     "data": {
      "text/html": [
       "<table>\n",
       "<thead><tr><th scope=col>cve_ent</th><th scope=col>poblacion</th><th scope=col>nombre</th><th scope=col>X12.01.2020</th><th scope=col>X13.01.2020</th><th scope=col>X14.01.2020</th><th scope=col>X15.01.2020</th><th scope=col>X16.01.2020</th><th scope=col>X17.01.2020</th><th scope=col>X18.01.2020</th><th scope=col>...</th><th scope=col>X08.07.2020</th><th scope=col>X09.07.2020</th><th scope=col>X10.07.2020</th><th scope=col>X11.07.2020</th><th scope=col>X12.07.2020</th><th scope=col>X13.07.2020</th><th scope=col>X14.07.2020</th><th scope=col>X15.07.2020</th><th scope=col>X16.07.2020</th><th scope=col>X17.07.2020</th></tr></thead>\n",
       "<tbody>\n",
       "\t<tr><td>16046     </td><td> 15290    </td><td>Juarez    </td><td>0         </td><td>0         </td><td>0         </td><td>0         </td><td>0         </td><td>0         </td><td>0         </td><td>...       </td><td> 0        </td><td> 0        </td><td> 0        </td><td> 0        </td><td>0         </td><td> 0        </td><td> 0        </td><td> 0        </td><td>0         </td><td>0         </td></tr>\n",
       "\t<tr><td>16047     </td><td> 22358    </td><td>Jungapeo  </td><td>0         </td><td>0         </td><td>0         </td><td>0         </td><td>0         </td><td>0         </td><td>0         </td><td>...       </td><td> 0        </td><td> 0        </td><td> 1        </td><td> 0        </td><td>0         </td><td> 0        </td><td> 0        </td><td> 0        </td><td>0         </td><td>0         </td></tr>\n",
       "\t<tr><td>16048     </td><td>  5862    </td><td>Lagunillas</td><td>0         </td><td>0         </td><td>0         </td><td>0         </td><td>0         </td><td>0         </td><td>0         </td><td>...       </td><td> 0        </td><td> 0        </td><td> 0        </td><td> 0        </td><td>0         </td><td> 0        </td><td> 0        </td><td> 0        </td><td>0         </td><td>0         </td></tr>\n",
       "\t<tr><td>16049     </td><td> 18769    </td><td>Madero    </td><td>0         </td><td>0         </td><td>0         </td><td>0         </td><td>0         </td><td>0         </td><td>0         </td><td>...       </td><td> 0        </td><td> 1        </td><td> 0        </td><td> 0        </td><td>0         </td><td> 2        </td><td> 0        </td><td> 0        </td><td>0         </td><td>0         </td></tr>\n",
       "\t<tr><td> 5035     </td><td>744247    </td><td>Torreon   </td><td>0         </td><td>0         </td><td>0         </td><td>0         </td><td>0         </td><td>0         </td><td>0         </td><td>...       </td><td>53        </td><td>67        </td><td>66        </td><td>12        </td><td>6         </td><td>21        </td><td>22        </td><td>22        </td><td>4         </td><td>0         </td></tr>\n",
       "\t<tr><td> 5036     </td><td> 23781    </td><td>Viesca    </td><td>0         </td><td>0         </td><td>0         </td><td>0         </td><td>0         </td><td>0         </td><td>0         </td><td>...       </td><td> 1        </td><td> 0        </td><td> 1        </td><td> 0        </td><td>0         </td><td> 0        </td><td> 0        </td><td> 0        </td><td>0         </td><td>0         </td></tr>\n",
       "</tbody>\n",
       "</table>\n"
      ],
      "text/latex": [
       "\\begin{tabular}{r|lllllllllllllllllllllllllllllllllllllllllllllllllllllllllllllllllllllllllllllllllllllllllllllllllllllllllllllllllllllllllllllllllllllllllllllllllllllllllllllllllllllllllllllllllllllllllllllll}\n",
       " cve\\_ent & poblacion & nombre & X12.01.2020 & X13.01.2020 & X14.01.2020 & X15.01.2020 & X16.01.2020 & X17.01.2020 & X18.01.2020 & ... & X08.07.2020 & X09.07.2020 & X10.07.2020 & X11.07.2020 & X12.07.2020 & X13.07.2020 & X14.07.2020 & X15.07.2020 & X16.07.2020 & X17.07.2020\\\\\n",
       "\\hline\n",
       "\t 16046      &  15290     & Juarez     & 0          & 0          & 0          & 0          & 0          & 0          & 0          & ...        &  0         &  0         &  0         &  0         & 0          &  0         &  0         &  0         & 0          & 0         \\\\\n",
       "\t 16047      &  22358     & Jungapeo   & 0          & 0          & 0          & 0          & 0          & 0          & 0          & ...        &  0         &  0         &  1         &  0         & 0          &  0         &  0         &  0         & 0          & 0         \\\\\n",
       "\t 16048      &   5862     & Lagunillas & 0          & 0          & 0          & 0          & 0          & 0          & 0          & ...        &  0         &  0         &  0         &  0         & 0          &  0         &  0         &  0         & 0          & 0         \\\\\n",
       "\t 16049      &  18769     & Madero     & 0          & 0          & 0          & 0          & 0          & 0          & 0          & ...        &  0         &  1         &  0         &  0         & 0          &  2         &  0         &  0         & 0          & 0         \\\\\n",
       "\t  5035      & 744247     & Torreon    & 0          & 0          & 0          & 0          & 0          & 0          & 0          & ...        & 53         & 67         & 66         & 12         & 6          & 21         & 22         & 22         & 4          & 0         \\\\\n",
       "\t  5036      &  23781     & Viesca     & 0          & 0          & 0          & 0          & 0          & 0          & 0          & ...        &  1         &  0         &  1         &  0         & 0          &  0         &  0         &  0         & 0          & 0         \\\\\n",
       "\\end{tabular}\n"
      ],
      "text/markdown": [
       "\n",
       "| cve_ent | poblacion | nombre | X12.01.2020 | X13.01.2020 | X14.01.2020 | X15.01.2020 | X16.01.2020 | X17.01.2020 | X18.01.2020 | ... | X08.07.2020 | X09.07.2020 | X10.07.2020 | X11.07.2020 | X12.07.2020 | X13.07.2020 | X14.07.2020 | X15.07.2020 | X16.07.2020 | X17.07.2020 |\n",
       "|---|---|---|---|---|---|---|---|---|---|---|---|---|---|---|---|---|---|---|---|---|\n",
       "| 16046      |  15290     | Juarez     | 0          | 0          | 0          | 0          | 0          | 0          | 0          | ...        |  0         |  0         |  0         |  0         | 0          |  0         |  0         |  0         | 0          | 0          |\n",
       "| 16047      |  22358     | Jungapeo   | 0          | 0          | 0          | 0          | 0          | 0          | 0          | ...        |  0         |  0         |  1         |  0         | 0          |  0         |  0         |  0         | 0          | 0          |\n",
       "| 16048      |   5862     | Lagunillas | 0          | 0          | 0          | 0          | 0          | 0          | 0          | ...        |  0         |  0         |  0         |  0         | 0          |  0         |  0         |  0         | 0          | 0          |\n",
       "| 16049      |  18769     | Madero     | 0          | 0          | 0          | 0          | 0          | 0          | 0          | ...        |  0         |  1         |  0         |  0         | 0          |  2         |  0         |  0         | 0          | 0          |\n",
       "|  5035      | 744247     | Torreon    | 0          | 0          | 0          | 0          | 0          | 0          | 0          | ...        | 53         | 67         | 66         | 12         | 6          | 21         | 22         | 22         | 4          | 0          |\n",
       "|  5036      |  23781     | Viesca     | 0          | 0          | 0          | 0          | 0          | 0          | 0          | ...        |  1         |  0         |  1         |  0         | 0          |  0         |  0         |  0         | 0          | 0          |\n",
       "\n"
      ],
      "text/plain": [
       "  cve_ent poblacion nombre     X12.01.2020 X13.01.2020 X14.01.2020 X15.01.2020\n",
       "1 16046    15290    Juarez     0           0           0           0          \n",
       "2 16047    22358    Jungapeo   0           0           0           0          \n",
       "3 16048     5862    Lagunillas 0           0           0           0          \n",
       "4 16049    18769    Madero     0           0           0           0          \n",
       "5  5035   744247    Torreon    0           0           0           0          \n",
       "6  5036    23781    Viesca     0           0           0           0          \n",
       "  X16.01.2020 X17.01.2020 X18.01.2020 ... X08.07.2020 X09.07.2020 X10.07.2020\n",
       "1 0           0           0           ...  0           0           0         \n",
       "2 0           0           0           ...  0           0           1         \n",
       "3 0           0           0           ...  0           0           0         \n",
       "4 0           0           0           ...  0           1           0         \n",
       "5 0           0           0           ... 53          67          66         \n",
       "6 0           0           0           ...  1           0           1         \n",
       "  X11.07.2020 X12.07.2020 X13.07.2020 X14.07.2020 X15.07.2020 X16.07.2020\n",
       "1  0          0            0           0           0          0          \n",
       "2  0          0            0           0           0          0          \n",
       "3  0          0            0           0           0          0          \n",
       "4  0          0            2           0           0          0          \n",
       "5 12          6           21          22          22          4          \n",
       "6  0          0            0           0           0          0          \n",
       "  X17.07.2020\n",
       "1 0          \n",
       "2 0          \n",
       "3 0          \n",
       "4 0          \n",
       "5 0          \n",
       "6 0          "
      ]
     },
     "metadata": {},
     "output_type": "display_data"
    }
   ],
   "source": [
    "head (BD_2020_07_17)"
   ]
  },
  {
   "cell_type": "code",
   "execution_count": null,
   "metadata": {},
   "outputs": [],
   "source": []
  }
 ],
 "metadata": {
  "kernelspec": {
   "display_name": "R",
   "language": "R",
   "name": "ir"
  },
  "language_info": {
   "codemirror_mode": "r",
   "file_extension": ".r",
   "mimetype": "text/x-r-source",
   "name": "R",
   "pygments_lexer": "r",
   "version": "3.6.1"
  }
 },
 "nbformat": 4,
 "nbformat_minor": 4
}
