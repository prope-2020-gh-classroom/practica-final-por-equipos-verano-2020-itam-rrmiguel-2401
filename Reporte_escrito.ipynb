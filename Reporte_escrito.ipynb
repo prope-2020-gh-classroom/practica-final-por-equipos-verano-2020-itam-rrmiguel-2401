{
 "cells": [
  {
   "cell_type": "markdown",
   "metadata": {},
   "source": [
    "# $$ Práctica\\ Final $$\n",
    "\n",
    "##### $$Relación\\ entre \\ los\\ salarios\\ y\\ casos\\ confirmados\\ y\\ defunciones\\ ocasionadas\\ por\\ SARS-COVID-19.$$\n",
    "##### $$ Mariana\\ Lugo\\ Ibarra\\ y\\ Miguel\\ Ángel\\ Reyes\\ Retana$$"
   ]
  },
  {
   "cell_type": "markdown",
   "metadata": {},
   "source": [
    "Aún no se conoce el impacto económico que tendrá la pandemia en México,pero es muy probable que la contracción económica tenga un impacto regresivo, es decir, que afecte más a los que menos tienen. El tener un mejor salario es un buen indicador de mejor calidad de vida. Con salarios más altos, tienes más recursos para protegerte de la pandemia. Puedes quedarte en casa. Cuando el salario es precario, el costo de oportunidad de quedarte en casa suele ser mayor. \n",
    "\n",
    "Motivados por esta disyuntiva queremos probar que existe una relación inversa entre defunciones, casos confirmados con SARS-COVID-19 y el ingreso promedio. Para hacer esto, nos basamos en la investigación desarrollada por Raj Chetty en Estados Unidos donde se observó que el COVID-19 induce a los hogares de ingresos altos a aislarse y, en consecuencia, reducir el su gasto en sectores que requieren la interacción física. Este shock en el gasto de hogares de altos ingresos conduce a una disminución en la ganancia de las empresas y por lo tanto en pérdidas de empleos de trabajadores de ingresos bajos, quienes normalmente trabajan en sectores con interacción presencial. \n",
    "\n",
    "En México, lo anterior puede traducirse en que los trabajadores de menores ingresos tienen mayor movilidad ya que no pueden dejar de trabajar. Por lo tanto, tienen un mayor riesgo de conrtagio.Se estabablece la hipótesis de que dichos trabajadores se trasladan a zonas céntricas, en donde hay más fuentes de empleo. Generalmente, en las zonas céntricas,que concentran el empleo, el precio promedio de venta de vivienda alto.\n",
    "\n",
    "De acuerdo con lo anterior, nuestra hipótesis de investigación es que, dado que los casos confirmados se registran en el municipio donde habita la persona infectada, habrá una relación positiva entre el número de casos confirmados y defunciones por SARS-COVID-19 con respecto al ingreso o situación de pobreza del municipio.\n",
    "\n",
    "Como variables proxy de ingreso se tomó a la información de pobreza del CONEVAL y datos agregados y anonimizados por municipio del Infonavit. Se consideró el precio de venta promedio por municipio como proxy de municipios \"caros\" o \"baratos\"."
   ]
  },
  {
   "cell_type": "markdown",
   "metadata": {},
   "source": [
    "##### $$Descripción\\ de\\ los\\ datos.$$\n"
   ]
  },
  {
   "cell_type": "markdown",
   "metadata": {},
   "source": [
    "Para la investigación se obtienen los datos públicos del COVID-19 en México, datos de pobreza del CONEVAL, datos de incidencia delictiva del fuero común del Secretariado Ejecutivo del Sistema Nacional de Seguridad Pública (SESNSP), y datos privados y anonimizados de precios promedio de viviendas financiadas por Infonavit y el salario diario integrado promedio de acreditados del Infonavit.\n",
    "\n",
    "El nivel de análisis es municipal."
   ]
  },
  {
   "cell_type": "markdown",
   "metadata": {},
   "source": [
    "$COVID-19$: \n",
    "Se utilizan los datos diarios de los casos confirmados y defunciones reportados en https://coronavirus.gob.mx/datos/ por municipio. El corte de información es al 17 de julio de 2020."
   ]
  },
  {
   "cell_type": "markdown",
   "metadata": {},
   "source": [
    "$CONEVAL$: \n",
    "\n",
    "Se agregan datos de pobreza para el año 2015. Los datos viene desagregados a nivel municipal y toman en cuenta los siguientes indicadores (carencias sociales) para la medición de la pobreza multidimensional: Ingreso corriente per cápita; rezago educativo; acceso a servicios de salud; acceso a seguridad social; calidad y espacios de la vivienda; acceso a servicios básicos de la vivienda; acceso a la alimentación; y grado de cohesión social. Para que una persona se considere en situación de pobreza, debe tener al menos tres carencias sociales y un ingreso por debajo de la línea de bienestar. Para este trabajo se considera el porcentaje y el número de la población en situación de pobreza para el año 2015. "
   ]
  },
  {
   "cell_type": "markdown",
   "metadata": {},
   "source": [
    "$Secretariado\\ Ejecutivo\\ del\\ Sistema\\ Nacional\\ de\\ Seguridad\\ Pública\\ (SESNSP):$"
   ]
  },
  {
   "cell_type": "markdown",
   "metadata": {},
   "source": [
    "Se descargaron los datos de Incidencia Delictiva del Fuero Común a nivel municipal con el número de delitos por mes del año 2015 a mayo del 2020 (último periodo disponible).\n",
    "\n",
    "Se considera al los homicidios y al robo de vehículo como los delitos con menos cifra negra y, por lo tanto, los delitos asertivos de violencia.\n",
    "\n",
    "Se construyen las tasas de homicidios y robo a vehículo por cada cien mil habitantes por año. Con el objetivo de tener una tasa violencia más robusta, se calcula una tasa promedio del año 2015 a mayo 2020, por delito."
   ]
  },
  {
   "cell_type": "markdown",
   "metadata": {},
   "source": [
    "$Base\\ de\\ datos\\ para\\ el\\ análisis$: \n",
    "\n",
    "La base de datos para el análisis contiene la información desagregada a nivel municipal para las siguientes variables:\n",
    "\n",
    "**Variable** |  **Descripción** |  Fuente de los datos|\n",
    "-------------| -----------------|---------------------|\n",
    "*CV_MUN* | Clave del municipio | INEGI\n",
    "*precio_mean* | Precio promedio de la viviendafinanciada|INFONAVIT\n",
    "*salario_mean* | Salario promedio de los acreditados por INFONAVIT|INFONAVIT\n",
    "*poblacion* | población total del municipio|INFONAVIT\n",
    "*nombre* | Nombre del municipio|INEGI\n",
    "*confirmados_total* | Casos de COVID-19 confirmados en el municipio|SECRETARÍA DE SALUD\n",
    "*defunciones_total* | Defunciones ocasionadas por COVID-19 en el municipio|SECRETARÍA DE SALUD\n",
    "*ts_promedio_h* | Tasa de homicidios por cada cien mil habitantes|SESNSP\n",
    "*ts_promedio_r* | Tasa de robo a vehículo automotor por cada cien mil habitantes|SESNSP\n",
    "*Entidad* | Clave de la entidad federativa|INEGI\n",
    "*Nombre_ent* | Nombre de la entidad federativa|INEGI\n",
    "*pob_porc_2015* | Porcentaje de población en pobreza para el año 2015|CONEVAL \n",
    "*pob_per_2015* | Personas en situación de pobreza para el año 2015|CONEVAL\n"
   ]
  },
  {
   "cell_type": "markdown",
   "metadata": {},
   "source": [
    "La información homologada está disponible para el 61% de los municipios de la República Mexicana (1517 de 2458)."
   ]
  },
  {
   "cell_type": "markdown",
   "metadata": {},
   "source": [
    "En la sección de *AnálisisRegresión* se obtiene la matriz de correlación. En ella podemos ver que existe una correlación elevada entre las variables *precio_mean* y *salario_mean*. Esto no debe sorprendernos, ya que el monto del crédito que otorga INFONAVIT (*precio_mean*) está en función del sueldo del trabajador. Para evitar problemas de multicolinealidad, la variable *salario_mean* no será utilizada en el modelo."
   ]
  },
  {
   "cell_type": "markdown",
   "metadata": {},
   "source": [
    "$Modelo\\ de\\ regresión$:"
   ]
  },
  {
   "cell_type": "markdown",
   "metadata": {},
   "source": [
    "Se ajustarons dos modelos:\n",
    "* Modelo 1: Casos confirmados y su relación con los salarios\n",
    "* Modelo 2: Defunciones y su relación con los salarios"
   ]
  },
  {
   "cell_type": "markdown",
   "metadata": {},
   "source": [
    " $Modelo\\ 1$\n",
    "\n",
    "Se analizó la relación entre las varaibles relacionadas con el $ingreso$ (precio de venta, salario diario integradio y población en pobreza) y los casos confirmados.\n",
    "\n",
    "En las gráficas 1,2 y 3 de *AnáliisRegresión* podemos ver que el porcentaje de pobreza por municipio es consistente con nuestra hipótesis de investigación, es decir existe una relación positiva entre casos confirmados y población en pobreza. \n",
    "\n",
    "Por otro lado, Se observa relación positiva entre municipios con precios de venta promedio altos y casos confirmados, lo cual resulta contraintuitivo. Lo anterior puede deberse al sesgo que tienen los datos del Infonavit los cuales únicamente representan sus acreditados, mismos que pertenecen al sector formal."
   ]
  },
  {
   "cell_type": "markdown",
   "metadata": {},
   "source": [
    "Cuando revisamos la relación entre robo a vehículo y casos confirmados tenemos una relación positiva. Una hipótesis es que el robo es una característica de marginación y zonas con menos seguridad."
   ]
  },
  {
   "cell_type": "markdown",
   "metadata": {},
   "source": [
    " $Modelo\\ 2$"
   ]
  },
  {
   "cell_type": "markdown",
   "metadata": {},
   "source": [
    "El Modelo 2 mantiene el mismo comportamiento que el Modelo 1: hay una relación positiva entre la pobreza y las defunciones por COVID-19. También tiene una relación positiva con los precios de venta y con el robo de vehículo automotor. "
   ]
  },
  {
   "cell_type": "markdown",
   "metadata": {},
   "source": [
    "### ***Regresión multivariada***"
   ]
  },
  {
   "cell_type": "markdown",
   "metadata": {},
   "source": [
    "**Modelo 1: Casos Confirmados.**"
   ]
  },
  {
   "cell_type": "markdown",
   "metadata": {},
   "source": [
    "**1.4 Modelo con el logarítmo de los casos confirmados:**"
   ]
  },
  {
   "cell_type": "raw",
   "metadata": {},
   "source": [
    "log_mcorr1<-filter(mcorr1, log_confirmados>0 & log_ts_promedio_h>0 & log_ts_promedio_r>0)\n",
    "log_m1<-lm(log_confirmados ~ log_pob_per_2015+ log_ts_promedio_h +log_ts_promedio_r,\n",
    "            data = log_mcorr1)\n",
    "summary(log_m1)\n",
    "\n",
    "Call:\n",
    "lm(formula = log_confirmados ~ log_pob_per_2015 + log_ts_promedio_h + \n",
    "    log_ts_promedio_r, data = log_mcorr1)\n",
    "\n",
    "Residuals:\n",
    "    Min      1Q  Median      3Q     Max \n",
    "-3.9410 -1.1049 -0.0984  0.9440  5.0643 \n",
    "\n",
    "Coefficients:\n",
    "                  Estimate Std. Error t value Pr(>|t|)    \n",
    "(Intercept)        0.12910    0.37732   0.342 0.732291    \n",
    "log_pob_per_2015   0.19154    0.05074   3.775 0.000168 ***\n",
    "log_ts_promedio_h -0.28826    0.06346  -4.543  6.1e-06 ***\n",
    "log_ts_promedio_r  0.86422    0.03993  21.644  < 2e-16 ***\n",
    "---\n",
    "Signif. codes:  0 ‘***’ 0.001 ‘**’ 0.01 ‘*’ 0.05 ‘.’ 0.1 ‘ ’ 1\n",
    "\n",
    "Residual standard error: 1.546 on 1250 degrees of freedom\n",
    "Multiple R-squared:  0.2894,\tAdjusted R-squared:  0.2877 \n",
    "F-statistic: 169.7 on 3 and 1250 DF,  p-value: < 2.2e-16\n"
   ]
  },
  {
   "cell_type": "markdown",
   "metadata": {},
   "source": [
    "**Modelo 2: Defunciones.**"
   ]
  },
  {
   "cell_type": "markdown",
   "metadata": {},
   "source": [
    "**2.4. Modelo con el logarítmo de las defunciones por 100mil/hab:**"
   ]
  },
  {
   "cell_type": "raw",
   "metadata": {},
   "source": [
    "log_mcorr2<-filter(mcorr2, log_defunciones_total>0 & log_ts_promedio_h>0 & log_ts_promedio_r>0)\n",
    "log_m2<-lm(log_defunciones_total ~ log_pob_per_2015+ log_ts_promedio_h +log_ts_promedio_r,\n",
    "            data = log_mcorr2)\n",
    "            \n",
    "Call:\n",
    "lm(formula = log_defunciones_total ~ log_pob_per_2015 + log_ts_promedio_h + \n",
    "    log_ts_promedio_r, data = log_mcorr2)\n",
    "\n",
    "Residuals:\n",
    "    Min      1Q  Median      3Q     Max \n",
    "-3.1293 -0.9174 -0.1930  0.7701  4.1610 \n",
    "\n",
    "Coefficients:\n",
    "                  Estimate Std. Error t value Pr(>|t|)    \n",
    "(Intercept)       -0.17339    0.40849  -0.424   0.6713    \n",
    "log_pob_per_2015   0.10138    0.05437   1.865   0.0626 .  \n",
    "log_ts_promedio_h -0.30296    0.06628  -4.571 5.56e-06 ***\n",
    "log_ts_promedio_r  0.70352    0.04170  16.872  < 2e-16 ***\n",
    "---\n",
    "Signif. codes:  0 ‘***’ 0.001 ‘**’ 0.01 ‘*’ 0.05 ‘.’ 0.1 ‘ ’ 1\n",
    "\n",
    "Residual standard error: 1.26 on 865 degrees of freedom\n",
    "Multiple R-squared:  0.2549,\tAdjusted R-squared:  0.2523 \n",
    "F-statistic: 98.62 on 3 and 865 DF,  p-value: < 2.2e-16"
   ]
  },
  {
   "cell_type": "markdown",
   "metadata": {},
   "source": [
    "### $$ Conclusiones\\ de\\ los\\ resultados\\ de\\ los\\ modelos$$"
   ]
  },
  {
   "cell_type": "markdown",
   "metadata": {},
   "source": [
    "Todas las variables resularon significativas en ambos modelos. Específicamente en el $Modelo\\ 2$ el logarítmo de la población en pobreza resultó significativo al 90% de confianza. Los coeficientes de los modelos en escala logarítmica pueden ser interpretados como elasticidades o cambios porcentuales. \n",
    "\n",
    "**Variables de Pobreza**\n",
    "\n",
    "Tanto para los casos confirmados, como para las defunciones, los modelos establecen hay una relación positiva entre la población en situación de pobreza y los casos y defunciones por COVID-19. \n",
    "\n",
    "Específicamente, para el $Modelo\\ 1$ el aumento porcentual de la población en pobreza aumenta en 19.15% los casos confirmados, mientras que en el $Modelo\\ 2$ aumenta en 10.23% las defunciones. \n",
    "\n",
    "**Variables de Seguridad**\n",
    "\n",
    "Tanto para los casos confirmados, como para las defunciones, los modelos establecen hay una relación positiva entre la tasa de robos a vehículo y los casos y defunciones por COVID-19. Contrariamente, con la tasa de homicidios existe una relación negativa. Las variables anteriores se incorporaron al modelo como controles y pueden servir como proxies de marginación o de caracterización de zonas.\n",
    "\n",
    "Se establece la hipótesis de que muncipios con más homicidios (más inseguros) tiene menos casos y defunciones por COVID-19, debido a que las personas permancen aislados en su casas por motivos también de seguridad. En cuanto a la relación positiva con la tasa de robos de vehículo, se determina que los robos de vehículo se da en zonas con menos vigilancia, por lo que puede ser un indicador de marginación. Recomendamos analizar más a fondo dichos fenómenos a niveles más desagregados.\n",
    "\n",
    "\n",
    "**Variables de Infonavit**\n",
    "\n",
    "Las variables del precio de venta y salario promedio por municipio (obtenidas de Infonavit) no se incorporaron a los modelos multivariados ya que su relación con los casos y defunciones resultó contraintuitiva. Dichos resultados pueden deberse al sesgo de los datos que son representativos de la población de acreditados del Infonavit. Sin embargo, con la información del Infonavit se definió el universo de municipios de análisis. Infonavit está dirigido a población que pertenece al mercado laboral formal y los acreditados eligen su vivienda generalmente en zonas urbanas, dada su restricción presupuestal. Por lo tanto, no podemos afirmar que los municipios a los que llega Infonavit son los más pobres. Esto se explica por la medición de la pobreza multidimensional que hace el CONEVAL donde considera características de la vivienda, servicios e infraestructura. Por cuestiones de diseño de medición de la pobreza, podemos intuir que la población que atiende Infonavit no es considerada como la más pobre o no cumple con los requisitos de tener al menos tres carencias sociales y un ingreso por debajo de la línea de bienestar. Por ello, recomendamos revisar salarios para una población más heterogénea que la de Infonavit. \n",
    "\n",
    "Sin embargo, el tener los municipios de análisis del Infonavit, los cuáles podemos aproximar como \"urbanos#,  podemos establecer que los resultados son consistentes con nuestra hipótesis: muncipios \"urbanos\" más pobres, tendrán más casos y defunciones por COVID-19.  "
   ]
  }
 ],
 "metadata": {
  "kernelspec": {
   "display_name": "R",
   "language": "R",
   "name": "ir"
  },
  "language_info": {
   "codemirror_mode": "r",
   "file_extension": ".r",
   "mimetype": "text/x-r-source",
   "name": "R",
   "pygments_lexer": "r",
   "version": "3.6.3"
  }
 },
 "nbformat": 4,
 "nbformat_minor": 4
}
