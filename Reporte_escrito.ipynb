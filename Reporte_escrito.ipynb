{
 "cells": [
  {
   "cell_type": "markdown",
   "metadata": {},
   "source": [
    "# $$ Práctica\\ Final $$\n",
    "\n",
    "##### $$Relación\\ entre \\ los\\ salarios\\ y\\ casos\\ confirmados\\ y\\ defunciones\\ ocasionadas\\ por\\ SARS-COVID-19.$$\n",
    "##### $$ Mariana\\ Lugo\\ Ibarra\\ y\\ Miguel\\ Ángel\\ Reyes\\ Retana$$"
   ]
  },
  {
   "cell_type": "markdown",
   "metadata": {},
   "source": [
    "Aún no se conoce el impacto económico que tendrá la pandemia en México,pero es muy probable que la contracción económica tenga un impacto regresivo, es decir, que afecte más a los que menos tienen. El tener un mejor salario es un buen indicador de mejor calidad de vida. Con salarios más altos, tienes más recursos para protegerte de la pandemia. Puedes quedarte en casa. Cuando el salario es precario, el costo de oportunidad de quedarte en casa suele ser mayor. \n",
    "\n",
    "Motivados por esta disyuntiva queremos probar que existe una relación inversa entre defunciones, casos confirmados con SARS-COVID-19 y el ingreso promedio. Para hacer esto, nos basamos en la investigación desarrollada por Raj Chetty en Estados Unidos donde se observó que existe una relación negativa entre el ingreso promedio de un barrio y el número de casos confirmados con SARS-COVID-19. \n",
    "\n",
    "Como variables proxy de ingreso se tomó a la información de pobreza del CONEVAL y datos agregados y anonimizados por municipio del Infonavit. Se consideró el precio de venta promedio por municipio como proxy de municipios \"caros\" o \"baratos\".\n"
   ]
  },
  {
   "cell_type": "markdown",
   "metadata": {},
   "source": [
    "##### $$Descripción\\ de\\ los\\ datos.$$\n"
   ]
  },
  {
   "cell_type": "markdown",
   "metadata": {},
   "source": [
    "Para la investigación se obtienen los datos públicos del COVID-19 en México, datos de pobreza del CONEVAL, datos de incidencia delictiva del fuero común del Secretariado Ejecutivo del Sistema Nacional de Seguridad Pública (SESNSP), y datos privados y anonimizados de precios promedio de viviendas financiadas por Infonavit y el salario diario integrado promedio de acreditados del Infonavit.\n",
    "\n",
    "El nivel de análisis es municipal."
   ]
  },
  {
   "cell_type": "markdown",
   "metadata": {},
   "source": [
    "$COVID-19$: \n",
    "* Se utilizan los datos diarios de los casos confirmados y defunciones reportados en https://coronavirus.gob.mx/datos/ por municipio. El corte de información es al 17 de julio de 2020."
   ]
  },
  {
   "cell_type": "markdown",
   "metadata": {},
   "source": [
    "$CONEVAL$: \n",
    "\n",
    "Se agregan datos de pobreza para el año 2015. Los datos viene desagregados a nivel municipal y toman en cuenta los siguientes indicadores (carencias sociales) para la medición de la pobreza multidimensional: Ingreso corriente per cápita; rezago educativo; acceso a servicios de salud; acceso a seguridad social; calidad y espacios de la vivienda; acceso a servicios básicos de la vivienda; acceso a la alimentación; y grado de cohesión social. Para que una persona se considere en situación de pobreza, debe tener al menos tres carencias sociales y un ingreso por debajo de la línea de bienestar. Para este trabajo se considera el porcentaje y el número de la población en situación de pobreza para el año 2015. "
   ]
  },
  {
   "cell_type": "markdown",
   "metadata": {},
   "source": [
    "$Secretariado\\ Ejecutivo\\ del\\ Sistema\\ Nacional\\ de\\ Seguridad\\ Pública\\ (SESNSP):$"
   ]
  },
  {
   "cell_type": "markdown",
   "metadata": {},
   "source": [
    "Se descargaron los datos de Incidencia Delictiva del Fuero Común a nivel municipal con el número de delitos por mes del año 2015 a mayo del 2020 (último periodo disponible).\n",
    "\n",
    "Se considera al los homicidios y al robo de vehículo como los delitos con menos cifra negra y, por lo tanto, los delitos asertivos de violencia.\n",
    "\n",
    "Se construyen las tasas de homicidios y robo a vehículo por cada cien mil habitantes por año. Con el objetivo de tener una tasa del delito, y por lo tanto violencia, más robusta, se calcula una tasa promedio del año 2015 a mayo 2020."
   ]
  },
  {
   "cell_type": "markdown",
   "metadata": {},
   "source": [
    "$Base de datlos para el análisis$: \n",
    "\n",
    "La base de datos para el análisis contiene la información desagregada a nivel municipal para las siguientes variables:\n",
    "\n",
    "**Variable** |  **Descripción** |  Fuente de los datos|\n",
    "-------------| -----------------|---------------------|\n",
    "*CV_MUN* | Clave del municipio | INEGI\n",
    "*precio_mean* | Precio promedio de la viviendafinanciada|INFONAVIT\n",
    "*salario_mean* | Salario promedio de los acreditados por INFONAVIT|INFONAVIT\n",
    "*poblacion* | población total del municipio|INFONAVIT\n",
    "*nombre* | Nombre del municipio|INEGI\n",
    "*confirmados_total* | Casos de COVID-19 confirmados en el municipio|SECRETARÍA DE SALUD\n",
    "*defunciones_total* | Defunciones ocasionadas por COVID-19 en el municipio|SECRETARÍA DE SALUD\n",
    "*ts_promedio_h* | Tasa de homicidios por cada cien mil habitantes|SESNSP\n",
    "*ts_promedio_r* | Tasa de robo a vehículo automotor por cada cien mil habitantes|SESNSP\n",
    "*Entidad* | Clave de la entidad federativa|INEGI\n",
    "*Nombre_ent* | Nombre de la entidad federativa|INEGI\n",
    "*pob_porc_2015* | Porcentaje de población en pobreza para el año 2015|CONEVAL \n",
    "*pob_per_2015* | Personas en situación de pobreza para el año 2015|CONEVAL\n"
   ]
  },
  {
   "cell_type": "markdown",
   "metadata": {},
   "source": [
    "La información homologada está disponible para el 61% de los municipios de la República Mexicana (1517 de 2458)"
   ]
  },
  {
   "cell_type": "markdown",
   "metadata": {},
   "source": [
    "En la sección de *AnálisisRegresión* se obtiene la matriz de correlación. En ella podemos ver que existe una correlación elevada entre las variables *precio_mean* y *salario_mean*. Esto no debe sorprendernos, ya que el monto del crédito que otorga INFONAVIT (*precio_mean*) está en función del sueldo del trabajador. Para evitar problemas de multicolinealidad, la variable *precio_mean* no será utilizada en el modelo."
   ]
  },
  {
   "cell_type": "markdown",
   "metadata": {},
   "source": [
    "$Modelo\\ de\\ regresión$:"
   ]
  },
  {
   "cell_type": "markdown",
   "metadata": {},
   "source": [
    "Utilizamos dos modelos:\n",
    "######        *Modelo 1: Casos confirmados y su relación con los salarios\n",
    "######        *Modelo 2: DEfunciones y su relación con los salarios"
   ]
  },
  {
   "cell_type": "markdown",
   "metadata": {},
   "source": [
    "Para el Modelo 1 se analiza la relación entre las varaibles relacionadas con el ingreso y los casos confirmados:\n",
    "\n",
    "*Precio promedio\n",
    "\n",
    "*Salario diario integrado promedio\n",
    "\n",
    "*Porcentaje de población en pobreza\n",
    "\n",
    "En las gráficas 1,2 y 3 de *AnáliisRegresión* podemos ver que el porcentaje de pobreza por municipio es consistente con nuestra hipótesis de investigación. Se observa relación positiva entre municipios con precios de venta promedio altos y casos confirmados, lo cual resulta contraintuitivo. Lo anterior puede deberse al sesgo que tienen los datos del Infonavit los cuales únicamente representan sus acreditados, mismos que pertenecen al sector formal."
   ]
  },
  {
   "cell_type": "markdown",
   "metadata": {},
   "source": [
    "***Relación con variables de seguridad***"
   ]
  },
  {
   "cell_type": "markdown",
   "metadata": {},
   "source": [
    "Cuando revisamos la relación entre robo a vehículo y casos confirmados tenemos una relación positiva. Una hipótesis es que el robo se da más en colonias o lugares con poca seguridad. Es una característica de marginación"
   ]
  },
  {
   "cell_type": "markdown",
   "metadata": {},
   "source": [
    "El Modelo 2 mantiene el mismo comportamiento que el Modelo 1. Hay una relación positiva entre la pobreza y las defunciones por COVID-19. También tiene una relación positiva con los precios de venta.\n"
   ]
  },
  {
   "cell_type": "markdown",
   "metadata": {},
   "source": [
    "***Regresión multivariada***"
   ]
  },
  {
   "cell_type": "markdown",
   "metadata": {},
   "source": [
    "**Modelo 1: casos confirmados:**"
   ]
  },
  {
   "cell_type": "markdown",
   "metadata": {},
   "source": [
    "**1.1 Modelo con casos confirmados:**"
   ]
  },
  {
   "cell_type": "raw",
   "metadata": {},
   "source": [
    "\n",
    "m1<-lm(confirmados_total~ pob_per_2015+ ts_promedio_h +ts_promedio_r ,\n",
    "            data = mcorr1)"
   ]
  },
  {
   "cell_type": "raw",
   "metadata": {},
   "source": [
    "Call:\n",
    "lm(formula = confirmados_total ~ pob_per_2015 + ts_promedio_h + \n",
    "    ts_promedio_r, data = mcorr1)\n",
    "\n",
    "Residuals:\n",
    "    Min      1Q  Median      3Q     Max \n",
    "-2107.7  -185.0   -63.1    -2.8  9709.9 \n",
    "\n",
    "Coefficients:\n",
    "              Estimate Std. Error t value Pr(>|t|)    \n",
    "(Intercept)   36.34485   45.15643   0.805 0.421030    \n",
    "pob_per_2015   0.03609    0.04428   0.815 0.415202    \n",
    "ts_promedio_h -3.11381    0.86372  -3.605 0.000323 ***\n",
    "ts_promedio_r  3.97453    0.25860  15.369  < 2e-16 ***\n",
    "---\n",
    "Signif. codes:  0 ‘***’ 0.001 ‘**’ 0.01 ‘*’ 0.05 ‘.’ 0.1 ‘ ’ 1\n",
    "\n",
    "Residual standard error: 717.4 on 1440 degrees of freedom\n",
    "  (73 observations deleted due to missingness)\n",
    "Multiple R-squared:  0.1423,\tAdjusted R-squared:  0.1405 \n",
    "F-statistic: 79.61 on 3 and 1440 DF,  p-value: < 2.2e-16"
   ]
  },
  {
   "cell_type": "markdown",
   "metadata": {},
   "source": [
    "**1.2 Modelo con la tasa de casos confirmados por 100mil/hab:**"
   ]
  },
  {
   "cell_type": "raw",
   "metadata": {},
   "source": [
    "ts_m1<-lm(ts_confirmados~ pob_per_2015+ ts_promedio_h +ts_promedio_r ,\n",
    "            data = mcorr1)\n",
    "summary(ts_m1)\n",
    "\n",
    "Call:\n",
    "lm(formula = ts_confirmados ~ pob_per_2015 + ts_promedio_h + \n",
    "    ts_promedio_r, data = mcorr1)\n",
    "\n",
    "Residuals:\n",
    "    Min      1Q  Median      3Q     Max \n",
    "-344.10  -94.71  -46.88   44.77 1211.15 \n",
    "\n",
    "Coefficients:\n",
    "                Estimate Std. Error t value Pr(>|t|)    \n",
    "(Intercept)   108.743197   9.736241  11.169  < 2e-16 ***\n",
    "pob_per_2015    0.024202   0.009548   2.535 0.011360 *  \n",
    "ts_promedio_h  -0.703489   0.186229  -3.778 0.000165 ***\n",
    "ts_promedio_r   0.685603   0.055758  12.296  < 2e-16 ***\n",
    "---\n",
    "Signif. codes:  0 ‘***’ 0.001 ‘**’ 0.01 ‘*’ 0.05 ‘.’ 0.1 ‘ ’ 1\n",
    "\n",
    "Residual standard error: 154.7 on 1440 degrees of freedom\n",
    "  (73 observations deleted due to missingness)\n",
    "Multiple R-squared:  0.1013,\tAdjusted R-squared:  0.09941 \n",
    "F-statistic:  54.1 on 3 and 1440 DF,  p-value: < 2.2e-16"
   ]
  },
  {
   "cell_type": "markdown",
   "metadata": {},
   "source": [
    "**1.3 Modelo con el logarítmo de la tasa de casos confirmados por 100mil/hab:**"
   ]
  },
  {
   "cell_type": "raw",
   "metadata": {},
   "source": [
    "log_ts_m1<-lm(log_ts_confirmados ~ log_pob_per_2015+ log_ts_promedio_h +log_ts_promedio_r,\n",
    "            data = log_ts_mcorr1)\n",
    "summary(log_ts_m1)\n",
    "\n",
    "Call:\n",
    "lm(formula = log_ts_confirmados ~ log_pob_per_2015 + log_ts_promedio_h + \n",
    "    log_ts_promedio_r, data = log_ts_mcorr1)\n",
    "\n",
    "Residuals:\n",
    "     Min       1Q   Median       3Q      Max \n",
    "-3.04437 -0.59951  0.03916  0.61230  2.76392 \n",
    "\n",
    "Coefficients:\n",
    "                  Estimate Std. Error t value Pr(>|t|)    \n",
    "(Intercept)        3.10931    0.22184  14.016  < 2e-16 ***\n",
    "log_pob_per_2015   0.04162    0.02944   1.414  0.15770    \n",
    "log_ts_promedio_h -0.12098    0.03788  -3.193  0.00144 ** \n",
    "log_ts_promedio_r  0.42236    0.02356  17.926  < 2e-16 ***\n",
    "---\n",
    "Signif. codes:  0 ‘***’ 0.001 ‘**’ 0.01 ‘*’ 0.05 ‘.’ 0.1 ‘ ’ 1\n",
    "\n",
    "Residual standard error: 0.9431 on 1290 degrees of freedom\n",
    "Multiple R-squared:  0.2062,\tAdjusted R-squared:  0.2043 \n",
    "F-statistic: 111.7 on 3 and 1290 DF,  p-value: < 2.2e-16\n"
   ]
  },
  {
   "cell_type": "markdown",
   "metadata": {},
   "source": [
    "**1.4 Modelo con el logarítmo de los casos confirmados por 100mil/hab:**"
   ]
  },
  {
   "cell_type": "raw",
   "metadata": {},
   "source": [
    "log_mcorr1<-filter(mcorr1, log_confirmados>0 & log_ts_promedio_h>0 & log_ts_promedio_r>0)\n",
    "log_m1<-lm(log_confirmados ~ log_pob_per_2015+ log_ts_promedio_h +log_ts_promedio_r,\n",
    "            data = log_mcorr1)\n",
    "summary(log_m1)\n",
    "\n",
    "Call:\n",
    "lm(formula = log_confirmados ~ log_pob_per_2015 + log_ts_promedio_h + \n",
    "    log_ts_promedio_r, data = log_mcorr1)\n",
    "\n",
    "Residuals:\n",
    "    Min      1Q  Median      3Q     Max \n",
    "-3.9410 -1.1049 -0.0984  0.9440  5.0643 \n",
    "\n",
    "Coefficients:\n",
    "                  Estimate Std. Error t value Pr(>|t|)    \n",
    "(Intercept)        0.12910    0.37732   0.342 0.732291    \n",
    "log_pob_per_2015   0.19154    0.05074   3.775 0.000168 ***\n",
    "log_ts_promedio_h -0.28826    0.06346  -4.543  6.1e-06 ***\n",
    "log_ts_promedio_r  0.86422    0.03993  21.644  < 2e-16 ***\n",
    "---\n",
    "Signif. codes:  0 ‘***’ 0.001 ‘**’ 0.01 ‘*’ 0.05 ‘.’ 0.1 ‘ ’ 1\n",
    "\n",
    "Residual standard error: 1.546 on 1250 degrees of freedom\n",
    "Multiple R-squared:  0.2894,\tAdjusted R-squared:  0.2877 \n",
    "F-statistic: 169.7 on 3 and 1250 DF,  p-value: < 2.2e-16\n"
   ]
  },
  {
   "cell_type": "markdown",
   "metadata": {},
   "source": [
    "**Modelo 2: con defunciones**"
   ]
  },
  {
   "cell_type": "markdown",
   "metadata": {},
   "source": [
    "**2.1 Modelo con defunciones:**"
   ]
  },
  {
   "cell_type": "raw",
   "metadata": {},
   "source": [
    "m2<-lm(defunciones_total~ pob_porc_2015+ ts_promedio_h +ts_promedio_r ,\n",
    "            data = mcorr2)\n",
    "\n",
    "Call:\n",
    "lm(formula = defunciones_total ~ pob_porc_2015 + ts_promedio_h + \n",
    "    ts_promedio_r, data = mcorr2)\n",
    "\n",
    "Residuals:\n",
    "    Min      1Q  Median      3Q     Max \n",
    "-268.88  -26.42   -6.20   11.65 1285.92 \n",
    "\n",
    "Coefficients:\n",
    "              Estimate Std. Error t value Pr(>|t|)    \n",
    "(Intercept)   42.30532    6.91116   6.121 1.19e-09 ***\n",
    "pob_porc_2015 -0.11040    0.01528  -7.226 8.06e-13 ***\n",
    "ts_promedio_h -0.42605    0.10640  -4.004 6.54e-05 ***\n",
    "ts_promedio_r  0.50514    0.03269  15.454  < 2e-16 ***\n",
    "---\n",
    "Signif. codes:  0 ‘***’ 0.001 ‘**’ 0.01 ‘*’ 0.05 ‘.’ 0.1 ‘ ’ 1\n",
    "\n",
    "Residual standard error: 88.13 on 1440 degrees of freedom\n",
    "  (73 observations deleted due to missingness)\n",
    "Multiple R-squared:  0.2027,\tAdjusted R-squared:  0.2011 \n",
    "F-statistic: 122.1 on 3 and 1440 DF,  p-value: < 2.2e-16"
   ]
  },
  {
   "cell_type": "markdown",
   "metadata": {},
   "source": [
    "**2.2. Modelo con la tasa de casos confirmados por 100mil/hab:**"
   ]
  },
  {
   "cell_type": "raw",
   "metadata": {},
   "source": [
    "ts_m2<-lm(ts_defunciones~ pob_porc_2015+ ts_promedio_h +ts_promedio_r ,\n",
    "            data = mcorr2)\n",
    "            \n",
    "Call:\n",
    "lm(formula = ts_defunciones ~ pob_porc_2015 + ts_promedio_h + \n",
    "    ts_promedio_r, data = mcorr2)\n",
    "\n",
    "Residuals:\n",
    "    Min      1Q  Median      3Q     Max \n",
    "-41.734 -11.924  -5.385   5.394 261.362 \n",
    "\n",
    "Coefficients:\n",
    "               Estimate Std. Error t value Pr(>|t|)    \n",
    "(Intercept)   24.179324   1.600391  15.108  < 2e-16 ***\n",
    "pob_porc_2015 -0.021925   0.003538  -6.197 7.51e-10 ***\n",
    "ts_promedio_h -0.181274   0.024639  -7.357 3.14e-13 ***\n",
    "ts_promedio_r  0.091795   0.007569  12.128  < 2e-16 ***\n",
    "---\n",
    "Signif. codes:  0 ‘***’ 0.001 ‘**’ 0.01 ‘*’ 0.05 ‘.’ 0.1 ‘ ’ 1\n",
    "\n",
    "Residual standard error: 20.41 on 1440 degrees of freedom\n",
    "  (73 observations deleted due to missingness)\n",
    "Multiple R-squared:  0.1481,\tAdjusted R-squared:  0.1463 \n",
    "F-statistic: 83.46 on 3 and 1440 DF,  p-value: < 2.2e-16"
   ]
  },
  {
   "cell_type": "markdown",
   "metadata": {},
   "source": [
    "**2.3. Modelo con el logarítmo de la tasa de defunciones por 100mil/hab:**"
   ]
  },
  {
   "cell_type": "raw",
   "metadata": {},
   "source": [
    "log_ts_mcorr2<-filter(mcorr2, log_ts_defunciones>0 & log_ts_promedio_h>0 & log_ts_promedio_r>0)\n",
    "log_ts_m2<-lm(log_ts_defunciones ~ log_pob_per_2015+ log_ts_promedio_h +log_ts_promedio_r,\n",
    "            data = log_ts_mcorr2)\n",
    "            \n",
    "Call:\n",
    "lm(formula = log_ts_defunciones ~ log_pob_per_2015 + log_ts_promedio_h + \n",
    "    log_ts_promedio_r, data = log_ts_mcorr2)\n",
    "\n",
    "Residuals:\n",
    "     Min       1Q   Median       3Q      Max \n",
    "-2.77170 -0.58334  0.04375  0.61543  3.09306 \n",
    "\n",
    "Coefficients:\n",
    "                  Estimate Std. Error t value Pr(>|t|)    \n",
    "(Intercept)        2.24875    0.22803   9.862  < 2e-16 ***\n",
    "log_pob_per_2015  -0.01635    0.03054  -0.535    0.593    \n",
    "log_ts_promedio_h -0.23592    0.03827  -6.164 1.01e-09 ***\n",
    "log_ts_promedio_r  0.32999    0.02407  13.707  < 2e-16 ***\n",
    "---\n",
    "Signif. codes:  0 ‘***’ 0.001 ‘**’ 0.01 ‘*’ 0.05 ‘.’ 0.1 ‘ ’ 1\n",
    "\n",
    "Residual standard error: 0.8429 on 1066 degrees of freedom\n",
    "Multiple R-squared:  0.1534,\tAdjusted R-squared:  0.151 \n",
    "F-statistic: 64.39 on 3 and 1066 DF,  p-value: < 2.2e-16"
   ]
  },
  {
   "cell_type": "markdown",
   "metadata": {},
   "source": [
    "**2.4. Modelo con el logarítmo de las defunciones por 100mil/hab:**"
   ]
  },
  {
   "cell_type": "raw",
   "metadata": {},
   "source": [
    "log_mcorr2<-filter(mcorr2, log_defunciones_total>0 & log_ts_promedio_h>0 & log_ts_promedio_r>0)\n",
    "log_m2<-lm(log_defunciones_total ~ log_pob_per_2015+ log_ts_promedio_h +log_ts_promedio_r,\n",
    "            data = log_mcorr2)\n",
    "            \n",
    "Call:\n",
    "lm(formula = log_defunciones_total ~ log_pob_per_2015 + log_ts_promedio_h + \n",
    "    log_ts_promedio_r, data = log_mcorr2)\n",
    "\n",
    "Residuals:\n",
    "    Min      1Q  Median      3Q     Max \n",
    "-3.1293 -0.9174 -0.1930  0.7701  4.1610 \n",
    "\n",
    "Coefficients:\n",
    "                  Estimate Std. Error t value Pr(>|t|)    \n",
    "(Intercept)       -0.17339    0.40849  -0.424   0.6713    \n",
    "log_pob_per_2015   0.10138    0.05437   1.865   0.0626 .  \n",
    "log_ts_promedio_h -0.30296    0.06628  -4.571 5.56e-06 ***\n",
    "log_ts_promedio_r  0.70352    0.04170  16.872  < 2e-16 ***\n",
    "---\n",
    "Signif. codes:  0 ‘***’ 0.001 ‘**’ 0.01 ‘*’ 0.05 ‘.’ 0.1 ‘ ’ 1\n",
    "\n",
    "Residual standard error: 1.26 on 865 degrees of freedom\n",
    "Multiple R-squared:  0.2549,\tAdjusted R-squared:  0.2523 \n",
    "F-statistic: 98.62 on 3 and 865 DF,  p-value: < 2.2e-16"
   ]
  },
  {
   "cell_type": "markdown",
   "metadata": {},
   "source": [
    "**Comentarios a los resultados del modelo**\n",
    "La pobreza solamente es significativa en una especificación del modelo. A pesar que presenta una correlación positiva con varias variables, no podemos concluir que la pobreza es causal de las defunciones o de los casos confirmados de COVID.\n",
    "\n",
    "El salario tampoco está correlacionado y tampoco tiene impacto en las variables de interés. Como mencionamos al inicio, esto puede ser por el diseño de la población. Infonavit está dirigido a población que pertenece al mercado laboral formal y los créditos que otorga, son para áreas urbanas. Aunque nuestra base de datos tiene un buen \"match\" no podemos afirmar que los municipios a los que llega Infonavit son los más pobres. Aunado a esto, la medición de la pobreza multidimensional considera aspecto de la vivienda, servicios e infraestructura. Por cuestiones de diseño de medición de la pobreza, podemos intuir que la población que atiende Infonavit no es considerada como pobre o no cumple con los requisitos de tener al menos tres carencias sociales y un ingreso por debajo de la línea de bienestar. Por ello, recomendamos revisar salarios para una población más heterogénea que la de Infonavit. \n",
    "\n",
    "Con los resultados de este modelo, no podemos concluir que la población que atiende Infonavit pertenezcan al sector más vulnerable, es decir, tenemos un sesgo en el diseño de nuestra base de datos."
   ]
  },
  {
   "cell_type": "code",
   "execution_count": null,
   "metadata": {},
   "outputs": [],
   "source": []
  },
  {
   "cell_type": "code",
   "execution_count": null,
   "metadata": {},
   "outputs": [],
   "source": []
  },
  {
   "cell_type": "code",
   "execution_count": null,
   "metadata": {},
   "outputs": [],
   "source": []
  }
 ],
 "metadata": {
  "kernelspec": {
   "display_name": "R",
   "language": "R",
   "name": "ir"
  },
  "language_info": {
   "codemirror_mode": "r",
   "file_extension": ".r",
   "mimetype": "text/x-r-source",
   "name": "R",
   "pygments_lexer": "r",
   "version": "3.6.1"
  }
 },
 "nbformat": 4,
 "nbformat_minor": 4
}
