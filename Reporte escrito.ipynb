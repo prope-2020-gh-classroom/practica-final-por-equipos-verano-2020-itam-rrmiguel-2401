{
 "cells": [
  {
   "cell_type": "markdown",
   "metadata": {},
   "source": [
    "# $$ Práctica\\ Final $$\n",
    "\n",
    "##### $$Relación\\ entre \\ los\\ salarios\\ y\\ casos\\ confirmados\\ y\\ defunciones\\ ocasionadas\\ por\\ SARS-COVID-19.$$\n",
    "##### $$ Mariana\\ Lugo\\ Ibarra\\ y\\ Miguel\\ Ángel\\ Reyes\\ Retana$$"
   ]
  },
  {
   "cell_type": "markdown",
   "metadata": {},
   "source": [
    "Aún no se conoce el impacto económico que tendrá la pandemia en México,pero es muy probable que la contracción económica tenga un impacto regresivo, es decir, que afecte más a los que menos tienen. El tener un mejor salario es un buen indicador de mejor calidad de vida. Con salarios más altos, tienes más recursos para protegerte de la pandemia. Puedes quedarte en casa. Cuando el salario es precario, el costo de oportunidad de quedarte en casa suele ser mayor. \n",
    "\n",
    "Motivados por esta disyuntiva queremos probar que existe una relación inversa entre defunciones, casos confirmados con SARS-COVID-19 y el ingreso promedio. Para hacer esto, nos basamos en la investigación desarrollada por Raj Chetty en Estados Unidos donde se observó que existe una relación negativa entre el ingreso promedio de un barrio y el número de casos confirmados con SARS-COVID-19. \n",
    "\n",
    "Como variables proxy de ingreso se tomó a la información de pobreza del CONEVAL y datos agregados y anonimizados por municipio del Infonavit. Se consideró el precio de venta promedio por municipio como proxy de municipios \"caros\" o \"baratos\".\n"
   ]
  },
  {
   "cell_type": "markdown",
   "metadata": {},
   "source": [
    "##### $$Descripción\\ de\\ los\\ datos.$$\n"
   ]
  },
  {
   "cell_type": "markdown",
   "metadata": {},
   "source": [
    "Para la investigación se obtienen los datos públicos del COVID-19 en México, datos de pobreza del CONEVAL, datos de incidencia delictiva del fuero común del Secretariado Ejecutivo del Sistema Nacional de Seguridad Pública (SESNSP), y datos privados y anonimizados de precios promedio de viviendas financiadas por Infonavit y el salario diario integrado promedio de acreditados del Infonavit.\n",
    "\n",
    "El nivel de análisis es municipal."
   ]
  },
  {
   "cell_type": "markdown",
   "metadata": {},
   "source": [
    "$COVID-19$: \n",
    "* Se utilizan los datos diarios de los casos confirmados y defunciones reportados en https://coronavirus.gob.mx/datos/ por municipio. El corte de información es al 17 de julio de 2020."
   ]
  },
  {
   "cell_type": "markdown",
   "metadata": {},
   "source": [
    "$CONEVAL$: \n",
    "\n",
    "Se agregan datos de pobreza para el año 2015. Los datos viene desagregados a nivel municipal y toman en cuenta los siguientes indicadores (carencias sociales) para la medición de la pobreza multidimensional: Ingreso corriente per cápita; rezago educativo; acceso a servicios de salud; acceso a seguridad social; calidad y espacios de la vivienda; acceso a servicios básicos de la vivienda; acceso a la alimentación; y grado de cohesión social. Para que una persona se considere en situación de pobreza, debe tener al menos tres carencias sociales y un ingreso por debajo de la línea de bienestar. Para este trabajo se considera el porcentaje y el número de la población en situación de pobreza para el año 2015. "
   ]
  },
  {
   "cell_type": "markdown",
   "metadata": {},
   "source": [
    "$Secretariado\\ Ejecutivo\\ del\\ Sistema\\ Nacional\\ de\\ Seguridad\\ Pública\\ (SESNSP):$"
   ]
  },
  {
   "cell_type": "markdown",
   "metadata": {},
   "source": [
    "Se descargaron los datos de Incidencia Delictiva del Fuero Común a nivel municipal con el número de delitos por mes del año 2015 a mayo del 2020 (último periodo disponible).\n",
    "\n",
    "Se considera al los homicidios y al robo de vehículo como los delitos con menos cifra negra y, por lo tanto, los delitos asertivos de violencia.\n",
    "\n",
    "Se construyen las tasas de homicidios y robo a vehículo por cada cien mil habitantes por año. Con el objetivo de tener una tasa del delito, y por lo tanto violencia, más robusta, se calcula una tasa promedio del año 2015 a mayo 2020."
   ]
  },
  {
   "cell_type": "markdown",
   "metadata": {},
   "source": [
    "$Base de datlos para el análisis$: \n",
    "\n",
    "La base de datos para el análisis contiene la información desagregada a nivel municipal para las siguientes variables:\n",
    "\n",
    "**Variable** |  **Descripción** |  Fuente de los datos|\n",
    "-------------| -----------------|---------------------|\n",
    "*CV_MUN* | Clave del municipio | INEGI\n",
    "*precio_mean* | Precio promedio de la vivienda por municipio|INFONAVIT\n",
    "*salario_mean* | Salario promedio por municipio|INFONAVIT\n",
    "*poblacion* | población total del municipio|INFONAVIT\n",
    "*nombre* | Nombre del municipio|INEGI\n",
    "*confirmados_total* | Casos de COVID-19 confirmados en el municipio|SECRETARÍA DE SALUD\n",
    "*defunciones_total* | Defunciones ocasionadas por COVID-19 en el municipio|SECRETARÍA DE SALUD\n",
    "*ts_promedio_h* | Tasa de homicidios promedio|SESNSP\n",
    "*ts_promedio_r* | Tasa de robos promedio|SESNSP\n",
    "*Entidad* | Clave de la entidad federativa|INEGI\n",
    "*Nombre_ent* | Nombre de la entidad federativa|INEGI\n",
    "*pob_porc_2015* | Porcentaje de población en pobreza para el año 2015|CONEVAL \n",
    "*pob_per_2015* | Población en pobreza para el año 2015|CONEVAL\n"
   ]
  },
  {
   "cell_type": "markdown",
   "metadata": {},
   "source": [
    "La información homologada está disponible para el 61% de los municipios de la República Mexicana (1517 de 2458)"
   ]
  },
  {
   "cell_type": "code",
   "execution_count": 19,
   "metadata": {},
   "outputs": [],
   "source": [
    "options(repr.plot.width=8, repr.plot.height=8)\n",
    "library(readxl)\n",
    "library(ggplot2)\n",
    "library(dplyr)\n",
    "library(tidyverse)\n",
    "library(stringr)"
   ]
  },
  {
   "cell_type": "code",
   "execution_count": 20,
   "metadata": {},
   "outputs": [],
   "source": [
    "datos<-read.csv(\"Datos/datos.csv\")"
   ]
  },
  {
   "cell_type": "code",
   "execution_count": 18,
   "metadata": {},
   "outputs": [
    {
     "ename": "ERROR",
     "evalue": "Error in parse(text = x, srcfile = src): <text>:1:1: inesperado '$'\n1: $\n    ^\n",
     "output_type": "error",
     "traceback": [
      "Error in parse(text = x, srcfile = src): <text>:1:1: inesperado '$'\n1: $\n    ^\nTraceback:\n"
     ]
    }
   ],
   "source": []
  },
  {
   "cell_type": "code",
   "execution_count": 14,
   "metadata": {},
   "outputs": [
    {
     "data": {
      "text/html": [
       "<ol class=list-inline>\n",
       "\t<li>1517</li>\n",
       "\t<li>14</li>\n",
       "</ol>\n"
      ],
      "text/latex": [
       "\\begin{enumerate*}\n",
       "\\item 1517\n",
       "\\item 14\n",
       "\\end{enumerate*}\n"
      ],
      "text/markdown": [
       "1. 1517\n",
       "2. 14\n",
       "\n",
       "\n"
      ],
      "text/plain": [
       "[1] 1517   14"
      ]
     },
     "metadata": {},
     "output_type": "display_data"
    }
   ],
   "source": [
    "dim (datos)"
   ]
  },
  {
   "cell_type": "code",
   "execution_count": null,
   "metadata": {},
   "outputs": [],
   "source": []
  }
 ],
 "metadata": {
  "kernelspec": {
   "display_name": "R",
   "language": "R",
   "name": "ir"
  },
  "language_info": {
   "codemirror_mode": "r",
   "file_extension": ".r",
   "mimetype": "text/x-r-source",
   "name": "R",
   "pygments_lexer": "r",
   "version": "3.6.1"
  }
 },
 "nbformat": 4,
 "nbformat_minor": 4
}
