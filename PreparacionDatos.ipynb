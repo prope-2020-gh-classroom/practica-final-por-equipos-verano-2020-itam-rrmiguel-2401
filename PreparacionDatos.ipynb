{
 "cells": [
  {
   "cell_type": "markdown",
   "metadata": {},
   "source": [
    "# $$ Práctica\\ Final $$\n",
    "\n",
    "##### $$Construcción\\ de\\ base\\ de\\ datos\\ de\\ análisis.$$\n",
    "##### $$ Mariana\\ Lugo\\ Ibarra\\ y\\ Miguel\\ Ángel\\ Reyes\\ Retana$$"
   ]
  },
  {
   "cell_type": "code",
   "execution_count": 29,
   "metadata": {},
   "outputs": [],
   "source": [
    "options(repr.plot.width=8, repr.plot.height=8)\n",
    "library(readxl)\n",
    "library(ggplot2)\n",
    "library(dplyr)\n",
    "library(tidyverse)\n",
    "library(stringr)"
   ]
  },
  {
   "cell_type": "markdown",
   "metadata": {},
   "source": [
    "## Hipotesis de Investigación:\n",
    "\n",
    "La motivación de la investigación resulta del trabajo realizado por el economista Raj Chetty en Estados Unidos donde se observa que existe una relación negativa entre el ingreso promedio de un barrio y el número de casos confirmados con SARS-COVID-19. \n",
    "\n",
    "El trabajo pretende investigar si existe una relación negativa entre defunciones, casos confirmados con SARS-COVID-19 y el ingreso promedio de un municipio.  "
   ]
  },
  {
   "cell_type": "markdown",
   "metadata": {},
   "source": [
    "## Datos:\n",
    "\n",
    "Para la investigación se obtienen los datos públicos del COVID-19 en México, datos de pobreza del CONEVAL, datos de incidencia delictiva del fuero común del Secretariado Ejecutivo del Sistema Nacional de Seguridad Pública (SESNSP), y datos privados y anonimizados de precios promedio de viviendas financiadas por Infonavit y el salario diario integrado promedio de acreditados del Infonavit.\n",
    "\n",
    "El nivel de análisis es municipal."
   ]
  },
  {
   "cell_type": "markdown",
   "metadata": {},
   "source": [
    "A continuación se presentan los datos de las distintas fuentes:"
   ]
  },
  {
   "cell_type": "markdown",
   "metadata": {},
   "source": [
    "$COVID-19$: \n",
    "* Se utilizan los datos diarios de los casos confirmados y defunciones reportados en https://coronavirus.gob.mx/datos/ por municipio. El corte de información es al 17 de julio de 2020."
   ]
  },
  {
   "cell_type": "code",
   "execution_count": 30,
   "metadata": {},
   "outputs": [],
   "source": [
    "confirmados <- read.csv (\"Datos/COVID19/Casos_Diarios_Municipio_Confirmados_20200717.csv\")\n",
    "defunciones<-read.csv (\"Datos/COVID19/Defunciones_20200717.csv\")"
   ]
  },
  {
   "cell_type": "code",
   "execution_count": 31,
   "metadata": {},
   "outputs": [
    {
     "data": {
      "text/html": [
       "<table>\n",
       "<thead><tr><th scope=col>cve_ent</th><th scope=col>poblacion</th><th scope=col>nombre</th><th scope=col>X12.01.2020</th><th scope=col>X13.01.2020</th><th scope=col>X14.01.2020</th><th scope=col>X15.01.2020</th><th scope=col>X16.01.2020</th><th scope=col>X17.01.2020</th><th scope=col>X18.01.2020</th><th scope=col>...</th><th scope=col>X08.07.2020</th><th scope=col>X09.07.2020</th><th scope=col>X10.07.2020</th><th scope=col>X11.07.2020</th><th scope=col>X12.07.2020</th><th scope=col>X13.07.2020</th><th scope=col>X14.07.2020</th><th scope=col>X15.07.2020</th><th scope=col>X16.07.2020</th><th scope=col>X17.07.2020</th></tr></thead>\n",
       "<tbody>\n",
       "\t<tr><td>16046     </td><td> 15290    </td><td>Juarez    </td><td>0         </td><td>0         </td><td>0         </td><td>0         </td><td>0         </td><td>0         </td><td>0         </td><td>...       </td><td> 0        </td><td> 0        </td><td> 0        </td><td> 0        </td><td>0         </td><td> 0        </td><td> 0        </td><td> 0        </td><td>0         </td><td>0         </td></tr>\n",
       "\t<tr><td>16047     </td><td> 22358    </td><td>Jungapeo  </td><td>0         </td><td>0         </td><td>0         </td><td>0         </td><td>0         </td><td>0         </td><td>0         </td><td>...       </td><td> 0        </td><td> 0        </td><td> 1        </td><td> 0        </td><td>0         </td><td> 0        </td><td> 0        </td><td> 0        </td><td>0         </td><td>0         </td></tr>\n",
       "\t<tr><td>16048     </td><td>  5862    </td><td>Lagunillas</td><td>0         </td><td>0         </td><td>0         </td><td>0         </td><td>0         </td><td>0         </td><td>0         </td><td>...       </td><td> 0        </td><td> 0        </td><td> 0        </td><td> 0        </td><td>0         </td><td> 0        </td><td> 0        </td><td> 0        </td><td>0         </td><td>0         </td></tr>\n",
       "\t<tr><td>16049     </td><td> 18769    </td><td>Madero    </td><td>0         </td><td>0         </td><td>0         </td><td>0         </td><td>0         </td><td>0         </td><td>0         </td><td>...       </td><td> 0        </td><td> 1        </td><td> 0        </td><td> 0        </td><td>0         </td><td> 2        </td><td> 0        </td><td> 0        </td><td>0         </td><td>0         </td></tr>\n",
       "\t<tr><td> 5035     </td><td>744247    </td><td>Torreon   </td><td>0         </td><td>0         </td><td>0         </td><td>0         </td><td>0         </td><td>0         </td><td>0         </td><td>...       </td><td>53        </td><td>67        </td><td>66        </td><td>12        </td><td>6         </td><td>21        </td><td>22        </td><td>22        </td><td>4         </td><td>0         </td></tr>\n",
       "\t<tr><td> 5036     </td><td> 23781    </td><td>Viesca    </td><td>0         </td><td>0         </td><td>0         </td><td>0         </td><td>0         </td><td>0         </td><td>0         </td><td>...       </td><td> 1        </td><td> 0        </td><td> 1        </td><td> 0        </td><td>0         </td><td> 0        </td><td> 0        </td><td> 0        </td><td>0         </td><td>0         </td></tr>\n",
       "</tbody>\n",
       "</table>\n"
      ],
      "text/latex": [
       "\\begin{tabular}{r|lllllllllllllllllllllllllllllllllllllllllllllllllllllllllllllllllllllllllllllllllllllllllllllllllllllllllllllllllllllllllllllllllllllllllllllllllllllllllllllllllllllllllllllllllllllllllllllll}\n",
       " cve\\_ent & poblacion & nombre & X12.01.2020 & X13.01.2020 & X14.01.2020 & X15.01.2020 & X16.01.2020 & X17.01.2020 & X18.01.2020 & ... & X08.07.2020 & X09.07.2020 & X10.07.2020 & X11.07.2020 & X12.07.2020 & X13.07.2020 & X14.07.2020 & X15.07.2020 & X16.07.2020 & X17.07.2020\\\\\n",
       "\\hline\n",
       "\t 16046      &  15290     & Juarez     & 0          & 0          & 0          & 0          & 0          & 0          & 0          & ...        &  0         &  0         &  0         &  0         & 0          &  0         &  0         &  0         & 0          & 0         \\\\\n",
       "\t 16047      &  22358     & Jungapeo   & 0          & 0          & 0          & 0          & 0          & 0          & 0          & ...        &  0         &  0         &  1         &  0         & 0          &  0         &  0         &  0         & 0          & 0         \\\\\n",
       "\t 16048      &   5862     & Lagunillas & 0          & 0          & 0          & 0          & 0          & 0          & 0          & ...        &  0         &  0         &  0         &  0         & 0          &  0         &  0         &  0         & 0          & 0         \\\\\n",
       "\t 16049      &  18769     & Madero     & 0          & 0          & 0          & 0          & 0          & 0          & 0          & ...        &  0         &  1         &  0         &  0         & 0          &  2         &  0         &  0         & 0          & 0         \\\\\n",
       "\t  5035      & 744247     & Torreon    & 0          & 0          & 0          & 0          & 0          & 0          & 0          & ...        & 53         & 67         & 66         & 12         & 6          & 21         & 22         & 22         & 4          & 0         \\\\\n",
       "\t  5036      &  23781     & Viesca     & 0          & 0          & 0          & 0          & 0          & 0          & 0          & ...        &  1         &  0         &  1         &  0         & 0          &  0         &  0         &  0         & 0          & 0         \\\\\n",
       "\\end{tabular}\n"
      ],
      "text/markdown": [
       "\n",
       "| cve_ent | poblacion | nombre | X12.01.2020 | X13.01.2020 | X14.01.2020 | X15.01.2020 | X16.01.2020 | X17.01.2020 | X18.01.2020 | ... | X08.07.2020 | X09.07.2020 | X10.07.2020 | X11.07.2020 | X12.07.2020 | X13.07.2020 | X14.07.2020 | X15.07.2020 | X16.07.2020 | X17.07.2020 |\n",
       "|---|---|---|---|---|---|---|---|---|---|---|---|---|---|---|---|---|---|---|---|---|\n",
       "| 16046      |  15290     | Juarez     | 0          | 0          | 0          | 0          | 0          | 0          | 0          | ...        |  0         |  0         |  0         |  0         | 0          |  0         |  0         |  0         | 0          | 0          |\n",
       "| 16047      |  22358     | Jungapeo   | 0          | 0          | 0          | 0          | 0          | 0          | 0          | ...        |  0         |  0         |  1         |  0         | 0          |  0         |  0         |  0         | 0          | 0          |\n",
       "| 16048      |   5862     | Lagunillas | 0          | 0          | 0          | 0          | 0          | 0          | 0          | ...        |  0         |  0         |  0         |  0         | 0          |  0         |  0         |  0         | 0          | 0          |\n",
       "| 16049      |  18769     | Madero     | 0          | 0          | 0          | 0          | 0          | 0          | 0          | ...        |  0         |  1         |  0         |  0         | 0          |  2         |  0         |  0         | 0          | 0          |\n",
       "|  5035      | 744247     | Torreon    | 0          | 0          | 0          | 0          | 0          | 0          | 0          | ...        | 53         | 67         | 66         | 12         | 6          | 21         | 22         | 22         | 4          | 0          |\n",
       "|  5036      |  23781     | Viesca     | 0          | 0          | 0          | 0          | 0          | 0          | 0          | ...        |  1         |  0         |  1         |  0         | 0          |  0         |  0         |  0         | 0          | 0          |\n",
       "\n"
      ],
      "text/plain": [
       "  cve_ent poblacion nombre     X12.01.2020 X13.01.2020 X14.01.2020 X15.01.2020\n",
       "1 16046    15290    Juarez     0           0           0           0          \n",
       "2 16047    22358    Jungapeo   0           0           0           0          \n",
       "3 16048     5862    Lagunillas 0           0           0           0          \n",
       "4 16049    18769    Madero     0           0           0           0          \n",
       "5  5035   744247    Torreon    0           0           0           0          \n",
       "6  5036    23781    Viesca     0           0           0           0          \n",
       "  X16.01.2020 X17.01.2020 X18.01.2020 ... X08.07.2020 X09.07.2020 X10.07.2020\n",
       "1 0           0           0           ...  0           0           0         \n",
       "2 0           0           0           ...  0           0           1         \n",
       "3 0           0           0           ...  0           0           0         \n",
       "4 0           0           0           ...  0           1           0         \n",
       "5 0           0           0           ... 53          67          66         \n",
       "6 0           0           0           ...  1           0           1         \n",
       "  X11.07.2020 X12.07.2020 X13.07.2020 X14.07.2020 X15.07.2020 X16.07.2020\n",
       "1  0          0            0           0           0          0          \n",
       "2  0          0            0           0           0          0          \n",
       "3  0          0            0           0           0          0          \n",
       "4  0          0            2           0           0          0          \n",
       "5 12          6           21          22          22          4          \n",
       "6  0          0            0           0           0          0          \n",
       "  X17.07.2020\n",
       "1 0          \n",
       "2 0          \n",
       "3 0          \n",
       "4 0          \n",
       "5 0          \n",
       "6 0          "
      ]
     },
     "metadata": {},
     "output_type": "display_data"
    },
    {
     "data": {
      "text/html": [
       "<ol class=list-inline>\n",
       "\t<li>2457</li>\n",
       "\t<li>191</li>\n",
       "</ol>\n"
      ],
      "text/latex": [
       "\\begin{enumerate*}\n",
       "\\item 2457\n",
       "\\item 191\n",
       "\\end{enumerate*}\n"
      ],
      "text/markdown": [
       "1. 2457\n",
       "2. 191\n",
       "\n",
       "\n"
      ],
      "text/plain": [
       "[1] 2457  191"
      ]
     },
     "metadata": {},
     "output_type": "display_data"
    },
    {
     "data": {
      "text/html": [
       "<table>\n",
       "<thead><tr><th scope=col>cve_ent</th><th scope=col>poblacion</th><th scope=col>nombre</th><th scope=col>X17.03.2020</th><th scope=col>X18.03.2020</th><th scope=col>X19.03.2020</th><th scope=col>X20.03.2020</th><th scope=col>X21.03.2020</th><th scope=col>X22.03.2020</th><th scope=col>X23.03.2020</th><th scope=col>...</th><th scope=col>X08.07.2020</th><th scope=col>X09.07.2020</th><th scope=col>X10.07.2020</th><th scope=col>X11.07.2020</th><th scope=col>X12.07.2020</th><th scope=col>X13.07.2020</th><th scope=col>X14.07.2020</th><th scope=col>X15.07.2020</th><th scope=col>X16.07.2020</th><th scope=col>X17.07.2020</th></tr></thead>\n",
       "<tbody>\n",
       "\t<tr><td>16046     </td><td> 15290    </td><td>Juarez    </td><td>0         </td><td>0         </td><td>0         </td><td>0         </td><td>0         </td><td>0         </td><td>0         </td><td>...       </td><td>0         </td><td>0         </td><td>0         </td><td>0         </td><td>0         </td><td>0         </td><td>0         </td><td>0         </td><td>0         </td><td>0         </td></tr>\n",
       "\t<tr><td>16047     </td><td> 22358    </td><td>Jungapeo  </td><td>0         </td><td>0         </td><td>0         </td><td>0         </td><td>0         </td><td>0         </td><td>0         </td><td>...       </td><td>0         </td><td>0         </td><td>0         </td><td>0         </td><td>0         </td><td>0         </td><td>0         </td><td>0         </td><td>0         </td><td>0         </td></tr>\n",
       "\t<tr><td>16048     </td><td>  5862    </td><td>Lagunillas</td><td>0         </td><td>0         </td><td>0         </td><td>0         </td><td>0         </td><td>0         </td><td>0         </td><td>...       </td><td>0         </td><td>0         </td><td>0         </td><td>0         </td><td>0         </td><td>0         </td><td>0         </td><td>0         </td><td>0         </td><td>0         </td></tr>\n",
       "\t<tr><td>16049     </td><td> 18769    </td><td>Madero    </td><td>0         </td><td>0         </td><td>0         </td><td>0         </td><td>0         </td><td>0         </td><td>0         </td><td>...       </td><td>0         </td><td>0         </td><td>0         </td><td>0         </td><td>0         </td><td>0         </td><td>0         </td><td>0         </td><td>0         </td><td>0         </td></tr>\n",
       "\t<tr><td> 5035     </td><td>744247    </td><td>Torreon   </td><td>0         </td><td>0         </td><td>0         </td><td>0         </td><td>0         </td><td>0         </td><td>0         </td><td>...       </td><td>3         </td><td>2         </td><td>3         </td><td>2         </td><td>0         </td><td>2         </td><td>2         </td><td>1         </td><td>0         </td><td>0         </td></tr>\n",
       "\t<tr><td> 5036     </td><td> 23781    </td><td>Viesca    </td><td>0         </td><td>0         </td><td>0         </td><td>0         </td><td>0         </td><td>0         </td><td>0         </td><td>...       </td><td>0         </td><td>0         </td><td>0         </td><td>0         </td><td>0         </td><td>0         </td><td>1         </td><td>0         </td><td>0         </td><td>0         </td></tr>\n",
       "</tbody>\n",
       "</table>\n"
      ],
      "text/latex": [
       "\\begin{tabular}{r|llllllllllllllllllllllllllllllllllllllllllllllllllllllllllllllllllllllllllllllllllllllllllllllllllllllllllllllllllllllllllllll}\n",
       " cve\\_ent & poblacion & nombre & X17.03.2020 & X18.03.2020 & X19.03.2020 & X20.03.2020 & X21.03.2020 & X22.03.2020 & X23.03.2020 & ... & X08.07.2020 & X09.07.2020 & X10.07.2020 & X11.07.2020 & X12.07.2020 & X13.07.2020 & X14.07.2020 & X15.07.2020 & X16.07.2020 & X17.07.2020\\\\\n",
       "\\hline\n",
       "\t 16046      &  15290     & Juarez     & 0          & 0          & 0          & 0          & 0          & 0          & 0          & ...        & 0          & 0          & 0          & 0          & 0          & 0          & 0          & 0          & 0          & 0         \\\\\n",
       "\t 16047      &  22358     & Jungapeo   & 0          & 0          & 0          & 0          & 0          & 0          & 0          & ...        & 0          & 0          & 0          & 0          & 0          & 0          & 0          & 0          & 0          & 0         \\\\\n",
       "\t 16048      &   5862     & Lagunillas & 0          & 0          & 0          & 0          & 0          & 0          & 0          & ...        & 0          & 0          & 0          & 0          & 0          & 0          & 0          & 0          & 0          & 0         \\\\\n",
       "\t 16049      &  18769     & Madero     & 0          & 0          & 0          & 0          & 0          & 0          & 0          & ...        & 0          & 0          & 0          & 0          & 0          & 0          & 0          & 0          & 0          & 0         \\\\\n",
       "\t  5035      & 744247     & Torreon    & 0          & 0          & 0          & 0          & 0          & 0          & 0          & ...        & 3          & 2          & 3          & 2          & 0          & 2          & 2          & 1          & 0          & 0         \\\\\n",
       "\t  5036      &  23781     & Viesca     & 0          & 0          & 0          & 0          & 0          & 0          & 0          & ...        & 0          & 0          & 0          & 0          & 0          & 0          & 1          & 0          & 0          & 0         \\\\\n",
       "\\end{tabular}\n"
      ],
      "text/markdown": [
       "\n",
       "| cve_ent | poblacion | nombre | X17.03.2020 | X18.03.2020 | X19.03.2020 | X20.03.2020 | X21.03.2020 | X22.03.2020 | X23.03.2020 | ... | X08.07.2020 | X09.07.2020 | X10.07.2020 | X11.07.2020 | X12.07.2020 | X13.07.2020 | X14.07.2020 | X15.07.2020 | X16.07.2020 | X17.07.2020 |\n",
       "|---|---|---|---|---|---|---|---|---|---|---|---|---|---|---|---|---|---|---|---|---|\n",
       "| 16046      |  15290     | Juarez     | 0          | 0          | 0          | 0          | 0          | 0          | 0          | ...        | 0          | 0          | 0          | 0          | 0          | 0          | 0          | 0          | 0          | 0          |\n",
       "| 16047      |  22358     | Jungapeo   | 0          | 0          | 0          | 0          | 0          | 0          | 0          | ...        | 0          | 0          | 0          | 0          | 0          | 0          | 0          | 0          | 0          | 0          |\n",
       "| 16048      |   5862     | Lagunillas | 0          | 0          | 0          | 0          | 0          | 0          | 0          | ...        | 0          | 0          | 0          | 0          | 0          | 0          | 0          | 0          | 0          | 0          |\n",
       "| 16049      |  18769     | Madero     | 0          | 0          | 0          | 0          | 0          | 0          | 0          | ...        | 0          | 0          | 0          | 0          | 0          | 0          | 0          | 0          | 0          | 0          |\n",
       "|  5035      | 744247     | Torreon    | 0          | 0          | 0          | 0          | 0          | 0          | 0          | ...        | 3          | 2          | 3          | 2          | 0          | 2          | 2          | 1          | 0          | 0          |\n",
       "|  5036      |  23781     | Viesca     | 0          | 0          | 0          | 0          | 0          | 0          | 0          | ...        | 0          | 0          | 0          | 0          | 0          | 0          | 1          | 0          | 0          | 0          |\n",
       "\n"
      ],
      "text/plain": [
       "  cve_ent poblacion nombre     X17.03.2020 X18.03.2020 X19.03.2020 X20.03.2020\n",
       "1 16046    15290    Juarez     0           0           0           0          \n",
       "2 16047    22358    Jungapeo   0           0           0           0          \n",
       "3 16048     5862    Lagunillas 0           0           0           0          \n",
       "4 16049    18769    Madero     0           0           0           0          \n",
       "5  5035   744247    Torreon    0           0           0           0          \n",
       "6  5036    23781    Viesca     0           0           0           0          \n",
       "  X21.03.2020 X22.03.2020 X23.03.2020 ... X08.07.2020 X09.07.2020 X10.07.2020\n",
       "1 0           0           0           ... 0           0           0          \n",
       "2 0           0           0           ... 0           0           0          \n",
       "3 0           0           0           ... 0           0           0          \n",
       "4 0           0           0           ... 0           0           0          \n",
       "5 0           0           0           ... 3           2           3          \n",
       "6 0           0           0           ... 0           0           0          \n",
       "  X11.07.2020 X12.07.2020 X13.07.2020 X14.07.2020 X15.07.2020 X16.07.2020\n",
       "1 0           0           0           0           0           0          \n",
       "2 0           0           0           0           0           0          \n",
       "3 0           0           0           0           0           0          \n",
       "4 0           0           0           0           0           0          \n",
       "5 2           0           2           2           1           0          \n",
       "6 0           0           0           1           0           0          \n",
       "  X17.07.2020\n",
       "1 0          \n",
       "2 0          \n",
       "3 0          \n",
       "4 0          \n",
       "5 0          \n",
       "6 0          "
      ]
     },
     "metadata": {},
     "output_type": "display_data"
    },
    {
     "data": {
      "text/html": [
       "<ol class=list-inline>\n",
       "\t<li>2457</li>\n",
       "\t<li>126</li>\n",
       "</ol>\n"
      ],
      "text/latex": [
       "\\begin{enumerate*}\n",
       "\\item 2457\n",
       "\\item 126\n",
       "\\end{enumerate*}\n"
      ],
      "text/markdown": [
       "1. 2457\n",
       "2. 126\n",
       "\n",
       "\n"
      ],
      "text/plain": [
       "[1] 2457  126"
      ]
     },
     "metadata": {},
     "output_type": "display_data"
    }
   ],
   "source": [
    "head(confirmados)\n",
    "dim(confirmados)\n",
    "head(defunciones)\n",
    "dim(defunciones)"
   ]
  },
  {
   "cell_type": "markdown",
   "metadata": {},
   "source": [
    "Para obtener el total de casos confirmados y defunciones por municipio se suma el número de casos diarios confirmado y defunciones al 17 de julio de 2020, de acuerdo con las dimensiones de los sets de datos respectivos."
   ]
  },
  {
   "cell_type": "code",
   "execution_count": 32,
   "metadata": {},
   "outputs": [],
   "source": [
    "confirmados$total<-rowSums(confirmados[,c(4:191)])\n",
    "defunciones$total<-rowSums(defunciones[,c(4:126)])"
   ]
  },
  {
   "cell_type": "markdown",
   "metadata": {},
   "source": [
    "$CONEVAL$: \n",
    "\n",
    "Se agregan datos de pobreza para el año 2015. Los datos viene desagregados a nivel municipal y toman en cuenta los siguientes indicadores (carencias sociales) para la medición de la pobreza multidimensional: Ingreso corriente per cápita; rezago educativo; acceso a servicios de salud; acceso a seguridad social; calidad y espacios de la vivienda; acceso a servicios básicos de la vivienda; acceso a la alimentación; y grado de cohesión social. Para que una persona se considere en situación de pobreza, debe tener al menos tres carencias sociales y un ingreso por debajo de la línea de bienestar. Para este trabajo se considera el porcentaje y el número de la población en situación de pobreza para el año 2015. "
   ]
  },
  {
   "cell_type": "code",
   "execution_count": 33,
   "metadata": {},
   "outputs": [
    {
     "data": {
      "text/html": [
       "<table>\n",
       "<thead><tr><th scope=col>Entidad</th><th scope=col>Nombre_ent</th><th scope=col>CV_MUN</th><th scope=col>pob_porc_2015</th><th scope=col>pob_per_2015</th></tr></thead>\n",
       "<tbody>\n",
       "\t<tr><td>01            </td><td>Aguascalientes</td><td>01001         </td><td>26.1          </td><td>224,949       </td></tr>\n",
       "\t<tr><td>01            </td><td>Aguascalientes</td><td>01002         </td><td>54.0          </td><td>25,169        </td></tr>\n",
       "\t<tr><td>01            </td><td>Aguascalientes</td><td>01003         </td><td>56.8          </td><td>29,951        </td></tr>\n",
       "\t<tr><td>01            </td><td>Aguascalientes</td><td>01004         </td><td>43.2          </td><td>6,620         </td></tr>\n",
       "\t<tr><td>01            </td><td>Aguascalientes</td><td>01005         </td><td>25.0          </td><td>31,479        </td></tr>\n",
       "\t<tr><td>01            </td><td>Aguascalientes</td><td>01006         </td><td>34.9          </td><td>15,972        </td></tr>\n",
       "</tbody>\n",
       "</table>\n"
      ],
      "text/latex": [
       "\\begin{tabular}{r|lllll}\n",
       " Entidad & Nombre\\_ent & CV\\_MUN & pob\\_porc\\_2015 & pob\\_per\\_2015\\\\\n",
       "\\hline\n",
       "\t 01             & Aguascalientes & 01001          & 26.1           & 224,949       \\\\\n",
       "\t 01             & Aguascalientes & 01002          & 54.0           & 25,169        \\\\\n",
       "\t 01             & Aguascalientes & 01003          & 56.8           & 29,951        \\\\\n",
       "\t 01             & Aguascalientes & 01004          & 43.2           & 6,620         \\\\\n",
       "\t 01             & Aguascalientes & 01005          & 25.0           & 31,479        \\\\\n",
       "\t 01             & Aguascalientes & 01006          & 34.9           & 15,972        \\\\\n",
       "\\end{tabular}\n"
      ],
      "text/markdown": [
       "\n",
       "| Entidad | Nombre_ent | CV_MUN | pob_porc_2015 | pob_per_2015 |\n",
       "|---|---|---|---|---|\n",
       "| 01             | Aguascalientes | 01001          | 26.1           | 224,949        |\n",
       "| 01             | Aguascalientes | 01002          | 54.0           | 25,169         |\n",
       "| 01             | Aguascalientes | 01003          | 56.8           | 29,951         |\n",
       "| 01             | Aguascalientes | 01004          | 43.2           | 6,620          |\n",
       "| 01             | Aguascalientes | 01005          | 25.0           | 31,479         |\n",
       "| 01             | Aguascalientes | 01006          | 34.9           | 15,972         |\n",
       "\n"
      ],
      "text/plain": [
       "  Entidad Nombre_ent     CV_MUN pob_porc_2015 pob_per_2015\n",
       "1 01      Aguascalientes 01001  26.1          224,949     \n",
       "2 01      Aguascalientes 01002  54.0          25,169      \n",
       "3 01      Aguascalientes 01003  56.8          29,951      \n",
       "4 01      Aguascalientes 01004  43.2          6,620       \n",
       "5 01      Aguascalientes 01005  25.0          31,479      \n",
       "6 01      Aguascalientes 01006  34.9          15,972      "
      ]
     },
     "metadata": {},
     "output_type": "display_data"
    }
   ],
   "source": [
    "coneval<-read.csv(\"Datos/CONEVAL/Concentrado_pobreza_municipios_2015.csv\")\n",
    "coneval<-coneval[,c(\"Entidad\",\"Nombre_ent\", \"cve_mun\", \"pob_porc_2015\",\"pob_per_2015\")]\n",
    "coneval$cve_mun<- str_pad(string=as.character(coneval$cve_mun),side='left',width=5, pad=\"0\")\n",
    "names(coneval)[3]<-\"CV_MUN\"\n",
    "head(coneval)"
   ]
  },
  {
   "cell_type": "markdown",
   "metadata": {},
   "source": [
    "$Secretariado\\ Ejecutivo\\ del\\ Sistema\\ Nacional\\ de\\ Seguridad\\ Pública\\ (SESNSP):$"
   ]
  },
  {
   "cell_type": "markdown",
   "metadata": {},
   "source": [
    "Se descargaron los datos de Incidencia Delictiva del Fuero Común a nivel municipal con el número de delitos por mes del año 2015 a mayo del 2020 (último periodo disponible).\n",
    "\n",
    "Se considera al los homicidios y al robo de vehículo como los delitos con menos cifra negra y, por lo tanto, los delitos asertivos de violencia.\n",
    "\n",
    "Se construyen las tasas de homicidios y robo a vehículo por cada cien mil habitantes por año. Con el objetivo de tener una tasa del delito, y por lo tanto violencia, más robusta, se calcula una tasa promedio del año 2015 a mayo 2020."
   ]
  },
  {
   "cell_type": "code",
   "execution_count": 34,
   "metadata": {},
   "outputs": [],
   "source": [
    "d2015<-read_excel(\"Datos/SEGURIDAD/2015.xlsx\")\n",
    "d2016<-read_excel(\"Datos/SEGURIDAD/2016.xlsx\")\n",
    "d2017<-read_excel(\"Datos/SEGURIDAD/2017.xlsx\")\n",
    "d2018<-read_excel(\"Datos/SEGURIDAD/2018.xlsx\")\n",
    "d2019<-read_excel(\"Datos/SEGURIDAD/2019.xlsx\")\n",
    "d052020<-read_excel(\"Datos/SEGURIDAD/2020.xlsx\")"
   ]
  },
  {
   "cell_type": "markdown",
   "metadata": {},
   "source": [
    "Se construyen los delitos totales por año:"
   ]
  },
  {
   "cell_type": "code",
   "execution_count": 35,
   "metadata": {},
   "outputs": [],
   "source": [
    "d2015$total<-rowSums(d2015[,c(10:21)])\n",
    "d2016$total<-rowSums(d2016[,c(10:21)])\n",
    "d2017$total<-rowSums(d2017[,c(10:21)])\n",
    "d2018$total<-rowSums(d2018[,c(10:21)])\n",
    "d2019$total<-rowSums(d2019[,c(10:21)])\n",
    "d052020$total<-rowSums(d052020[,c(10:14)])"
   ]
  },
  {
   "cell_type": "markdown",
   "metadata": {},
   "source": [
    "Se calcula el número de homicidios y robo a vehículo por municipio por cada año. "
   ]
  },
  {
   "cell_type": "code",
   "execution_count": 36,
   "metadata": {},
   "outputs": [
    {
     "name": "stderr",
     "output_type": "stream",
     "text": [
      "`summarise()` ungrouping output (override with `.groups` argument)\n",
      "`summarise()` ungrouping output (override with `.groups` argument)\n",
      "`summarise()` ungrouping output (override with `.groups` argument)\n",
      "`summarise()` ungrouping output (override with `.groups` argument)\n",
      "`summarise()` ungrouping output (override with `.groups` argument)\n",
      "`summarise()` ungrouping output (override with `.groups` argument)\n"
     ]
    }
   ],
   "source": [
    "d2015_h<-d2015%>% group_by(`Cve. Municipio`) %>% filter(`Tipo de delito`==\"Homicidio\") %>% summarise (total_h=sum(total))\n",
    "d2016_h<-d2016%>% group_by(`Cve. Municipio`) %>% filter(`Tipo de delito`==\"Homicidio\") %>% summarise (total_h=sum(total))\n",
    "d2017_h<-d2017%>% group_by(`Cve. Municipio`) %>% filter(`Tipo de delito`==\"Homicidio\") %>% summarise (total_h=sum(total))\n",
    "d2018_h<-d2018%>% group_by(`Cve. Municipio`) %>% filter(`Tipo de delito`==\"Homicidio\") %>% summarise (total_h=sum(total))\n",
    "d2019_h<-d2019%>% group_by(`Cve. Municipio`) %>% filter(`Tipo de delito`==\"Homicidio\") %>% summarise (total_h=sum(total))\n",
    "d052020_h<-d052020%>% group_by(`Cve. Municipio`) %>% filter(`Tipo de delito`==\"Homicidio\") %>% summarise (total_h=sum(total))"
   ]
  },
  {
   "cell_type": "code",
   "execution_count": 37,
   "metadata": {},
   "outputs": [
    {
     "name": "stderr",
     "output_type": "stream",
     "text": [
      "`summarise()` ungrouping output (override with `.groups` argument)\n",
      "`summarise()` ungrouping output (override with `.groups` argument)\n",
      "`summarise()` ungrouping output (override with `.groups` argument)\n",
      "`summarise()` ungrouping output (override with `.groups` argument)\n",
      "`summarise()` ungrouping output (override with `.groups` argument)\n",
      "`summarise()` ungrouping output (override with `.groups` argument)\n"
     ]
    }
   ],
   "source": [
    "d2015_r<-d2015%>% group_by(`Cve. Municipio`) %>% filter(`Subtipo de delito`==\"Robo de vehículo automotor\") %>% summarise (total_r=sum(total))\n",
    "d2016_r<-d2016%>% group_by(`Cve. Municipio`) %>% filter(`Subtipo de delito`==\"Robo de vehículo automotor\") %>% summarise (total_r=sum(total))\n",
    "d2017_r<-d2017%>% group_by(`Cve. Municipio`) %>% filter(`Subtipo de delito`==\"Robo de vehículo automotor\") %>% summarise (total_r=sum(total))\n",
    "d2018_r<-d2018%>% group_by(`Cve. Municipio`) %>% filter(`Subtipo de delito`==\"Robo de vehículo automotor\") %>% summarise (total_r=sum(total))\n",
    "d2019_r<-d2019%>% group_by(`Cve. Municipio`) %>% filter(`Subtipo de delito`==\"Robo de vehículo automotor\") %>% summarise (total_r=sum(total))\n",
    "d052020_r<-d052020%>% group_by(`Cve. Municipio`) %>% filter(`Subtipo de delito`==\"Robo de vehículo automotor\") %>% summarise (total_r=sum(total))"
   ]
  },
  {
   "cell_type": "markdown",
   "metadata": {},
   "source": [
    "$Infonavit$: \n",
    "\n",
    "* Se utiliza la información del precio promedio de las viviendas a nivel municipal y salario diario integrado promedio de los acreditados por municipio con el objetivo de establecer municipios \"ricos\" y \"pobres\" y su relación con la información del COVID-19. \n",
    "* Los set de datos contienen la clave del muncipio donde se financió vivienda, el precio promedio por municipio, el salario diario integrado de los acreditados promedio por municipio, la proporción de créditos originados por año en cada municipio y el año de originación.*"
   ]
  },
  {
   "cell_type": "code",
   "execution_count": 38,
   "metadata": {},
   "outputs": [],
   "source": [
    "INF10<-read_excel(\"Datos/INFONAVIT/INFV2010.xlsx\")\n",
    "INF11<-read_excel(\"Datos/INFONAVIT/INFV2011.xlsx\")\n",
    "INF12<-read_excel(\"Datos/INFONAVIT/INFV2012.xlsx\")\n",
    "INF13<-read_excel(\"Datos/INFONAVIT/INFV2013.xlsx\")\n",
    "INF14<-read_excel(\"Datos/INFONAVIT/INFV2014.xlsx\")\n",
    "INF15<-read_excel(\"Datos/INFONAVIT/INFV2015.xlsx\")\n",
    "INF16<-read_excel(\"Datos/INFONAVIT/INFV2016.xlsx\")\n",
    "INF17<-read_excel(\"Datos/INFONAVIT/INFV2017.xlsx\")\n",
    "INF18<-read_excel(\"Datos/INFONAVIT/INFV2018.xlsx\")\n",
    "INF19<-read_excel(\"Datos/INFONAVIT/INFV2019.xlsx\")\n",
    "INF0620<-read_excel(\"Datos/INFONAVIT/INFV062020.xlsx\")"
   ]
  },
  {
   "cell_type": "code",
   "execution_count": 39,
   "metadata": {},
   "outputs": [
    {
     "data": {
      "text/html": [
       "<table>\n",
       "<thead><tr><th scope=col>CV_MUN</th><th scope=col>PRECIO_PROM</th><th scope=col>SDI_PROM</th><th scope=col>PC_CRED</th><th scope=col>YEAR</th></tr></thead>\n",
       "<tbody>\n",
       "\t<tr><td>01001       </td><td>332299.2    </td><td>4.852961    </td><td>1.220829e-02</td><td>2010        </td></tr>\n",
       "\t<tr><td>01002       </td><td>308960.0    </td><td>6.135259    </td><td>2.159995e-05</td><td>2010        </td></tr>\n",
       "\t<tr><td>01003       </td><td>244566.1    </td><td>2.902301    </td><td>6.911985e-05</td><td>2010        </td></tr>\n",
       "\t<tr><td>01004       </td><td>353464.8    </td><td>4.365375    </td><td>4.967989e-05</td><td>2010        </td></tr>\n",
       "\t<tr><td>01005       </td><td>422150.7    </td><td>6.617866    </td><td>2.246395e-03</td><td>2010        </td></tr>\n",
       "\t<tr><td>01006       </td><td>284349.8    </td><td>4.151593    </td><td>1.360797e-04</td><td>2010        </td></tr>\n",
       "</tbody>\n",
       "</table>\n"
      ],
      "text/latex": [
       "\\begin{tabular}{r|lllll}\n",
       " CV\\_MUN & PRECIO\\_PROM & SDI\\_PROM & PC\\_CRED & YEAR\\\\\n",
       "\\hline\n",
       "\t 01001        & 332299.2     & 4.852961     & 1.220829e-02 & 2010        \\\\\n",
       "\t 01002        & 308960.0     & 6.135259     & 2.159995e-05 & 2010        \\\\\n",
       "\t 01003        & 244566.1     & 2.902301     & 6.911985e-05 & 2010        \\\\\n",
       "\t 01004        & 353464.8     & 4.365375     & 4.967989e-05 & 2010        \\\\\n",
       "\t 01005        & 422150.7     & 6.617866     & 2.246395e-03 & 2010        \\\\\n",
       "\t 01006        & 284349.8     & 4.151593     & 1.360797e-04 & 2010        \\\\\n",
       "\\end{tabular}\n"
      ],
      "text/markdown": [
       "\n",
       "| CV_MUN | PRECIO_PROM | SDI_PROM | PC_CRED | YEAR |\n",
       "|---|---|---|---|---|\n",
       "| 01001        | 332299.2     | 4.852961     | 1.220829e-02 | 2010         |\n",
       "| 01002        | 308960.0     | 6.135259     | 2.159995e-05 | 2010         |\n",
       "| 01003        | 244566.1     | 2.902301     | 6.911985e-05 | 2010         |\n",
       "| 01004        | 353464.8     | 4.365375     | 4.967989e-05 | 2010         |\n",
       "| 01005        | 422150.7     | 6.617866     | 2.246395e-03 | 2010         |\n",
       "| 01006        | 284349.8     | 4.151593     | 1.360797e-04 | 2010         |\n",
       "\n"
      ],
      "text/plain": [
       "  CV_MUN PRECIO_PROM SDI_PROM PC_CRED      YEAR\n",
       "1 01001  332299.2    4.852961 1.220829e-02 2010\n",
       "2 01002  308960.0    6.135259 2.159995e-05 2010\n",
       "3 01003  244566.1    2.902301 6.911985e-05 2010\n",
       "4 01004  353464.8    4.365375 4.967989e-05 2010\n",
       "5 01005  422150.7    6.617866 2.246395e-03 2010\n",
       "6 01006  284349.8    4.151593 1.360797e-04 2010"
      ]
     },
     "metadata": {},
     "output_type": "display_data"
    }
   ],
   "source": [
    "infonavit<-rbind(INF10,INF11, INF12,INF13,INF14,INF15,INF16,INF17,INF18,INF19,INF0620)\n",
    "head(infonavit)"
   ]
  },
  {
   "cell_type": "code",
   "execution_count": 40,
   "metadata": {},
   "outputs": [
    {
     "name": "stderr",
     "output_type": "stream",
     "text": [
      "`summarise()` ungrouping output (override with `.groups` argument)\n"
     ]
    },
    {
     "data": {
      "text/html": [
       "<table>\n",
       "<thead><tr><th scope=col>CV_MUN</th><th scope=col>precio_mean</th><th scope=col>salario_mean</th></tr></thead>\n",
       "<tbody>\n",
       "\t<tr><td>01001   </td><td>450371.7</td><td>4.767035</td></tr>\n",
       "\t<tr><td>01002   </td><td>351536.1</td><td>3.952249</td></tr>\n",
       "\t<tr><td>01003   </td><td>418039.4</td><td>3.360099</td></tr>\n",
       "\t<tr><td>01004   </td><td>368355.9</td><td>3.782037</td></tr>\n",
       "\t<tr><td>01005   </td><td>672823.9</td><td>7.371576</td></tr>\n",
       "\t<tr><td>01006   </td><td>388481.6</td><td>4.334164</td></tr>\n",
       "</tbody>\n",
       "</table>\n"
      ],
      "text/latex": [
       "\\begin{tabular}{r|lll}\n",
       " CV\\_MUN & precio\\_mean & salario\\_mean\\\\\n",
       "\\hline\n",
       "\t 01001    & 450371.7 & 4.767035\\\\\n",
       "\t 01002    & 351536.1 & 3.952249\\\\\n",
       "\t 01003    & 418039.4 & 3.360099\\\\\n",
       "\t 01004    & 368355.9 & 3.782037\\\\\n",
       "\t 01005    & 672823.9 & 7.371576\\\\\n",
       "\t 01006    & 388481.6 & 4.334164\\\\\n",
       "\\end{tabular}\n"
      ],
      "text/markdown": [
       "\n",
       "| CV_MUN | precio_mean | salario_mean |\n",
       "|---|---|---|\n",
       "| 01001    | 450371.7 | 4.767035 |\n",
       "| 01002    | 351536.1 | 3.952249 |\n",
       "| 01003    | 418039.4 | 3.360099 |\n",
       "| 01004    | 368355.9 | 3.782037 |\n",
       "| 01005    | 672823.9 | 7.371576 |\n",
       "| 01006    | 388481.6 | 4.334164 |\n",
       "\n"
      ],
      "text/plain": [
       "  CV_MUN precio_mean salario_mean\n",
       "1 01001  450371.7    4.767035    \n",
       "2 01002  351536.1    3.952249    \n",
       "3 01003  418039.4    3.360099    \n",
       "4 01004  368355.9    3.782037    \n",
       "5 01005  672823.9    7.371576    \n",
       "6 01006  388481.6    4.334164    "
      ]
     },
     "metadata": {},
     "output_type": "display_data"
    }
   ],
   "source": [
    "df_inf<-infonavit %>% group_by(CV_MUN) %>% summarise(precio_mean=mean(PRECIO_PROM),\n",
    "                                                    salario_mean=mean(SDI_PROM))\n",
    "head(df_inf)"
   ]
  },
  {
   "cell_type": "markdown",
   "metadata": {},
   "source": [
    "Del 2010 al primer semestre del 2020 el Infonavit ha financiado viviendas en 1517 municipios."
   ]
  },
  {
   "cell_type": "code",
   "execution_count": 41,
   "metadata": {},
   "outputs": [
    {
     "data": {
      "text/html": [
       "<ol class=list-inline>\n",
       "\t<li>1517</li>\n",
       "\t<li>3</li>\n",
       "</ol>\n"
      ],
      "text/latex": [
       "\\begin{enumerate*}\n",
       "\\item 1517\n",
       "\\item 3\n",
       "\\end{enumerate*}\n"
      ],
      "text/markdown": [
       "1. 1517\n",
       "2. 3\n",
       "\n",
       "\n"
      ],
      "text/plain": [
       "[1] 1517    3"
      ]
     },
     "metadata": {},
     "output_type": "display_data"
    }
   ],
   "source": [
    "dim(df_inf)"
   ]
  },
  {
   "cell_type": "markdown",
   "metadata": {},
   "source": [
    "**Se construye la base de datos para análisis:**"
   ]
  },
  {
   "cell_type": "markdown",
   "metadata": {},
   "source": [
    "Se homologa las claves de municipio y nombre del campo para todos los sets de datos:"
   ]
  },
  {
   "cell_type": "code",
   "execution_count": 42,
   "metadata": {},
   "outputs": [],
   "source": [
    "confirmados$cve_ent<- str_pad(string=as.character(confirmados$cve_ent),side='left',width=5, pad=\"0\")\n",
    "defunciones$cve_ent<- str_pad(string=as.character(defunciones$cve_ent),side='left',width=5, pad=\"0\")"
   ]
  },
  {
   "cell_type": "code",
   "execution_count": 43,
   "metadata": {},
   "outputs": [],
   "source": [
    "d2015_h$`Cve. Municipio`<-str_pad(string=as.character(d2015_h$`Cve. Municipio`),side='left',width=5, pad=\"0\")\n",
    "d2016_h$`Cve. Municipio`<-str_pad(string=as.character(d2016_h$`Cve. Municipio`),side='left',width=5, pad=\"0\")\n",
    "d2017_h$`Cve. Municipio`<-str_pad(string=as.character(d2017_h$`Cve. Municipio`),side='left',width=5, pad=\"0\")\n",
    "d2018_h$`Cve. Municipio`<-str_pad(string=as.character(d2018_h$`Cve. Municipio`),side='left',width=5, pad=\"0\")\n",
    "d2019_h$`Cve. Municipio`<-str_pad(string=as.character(d2019_h$`Cve. Municipio`),side='left',width=5, pad=\"0\")\n",
    "d052020_h$`Cve. Municipio`<-str_pad(string=as.character(d052020_h$`Cve. Municipio`),side='left',width=5, pad=\"0\")"
   ]
  },
  {
   "cell_type": "code",
   "execution_count": 44,
   "metadata": {},
   "outputs": [],
   "source": [
    "d2015_r$`Cve. Municipio`<-str_pad(string=as.character(d2015_r$`Cve. Municipio`),side='left',width=5, pad=\"0\")\n",
    "d2016_r$`Cve. Municipio`<-str_pad(string=as.character(d2016_r$`Cve. Municipio`),side='left',width=5, pad=\"0\")\n",
    "d2017_r$`Cve. Municipio`<-str_pad(string=as.character(d2017_r$`Cve. Municipio`),side='left',width=5, pad=\"0\")\n",
    "d2018_r$`Cve. Municipio`<-str_pad(string=as.character(d2018_r$`Cve. Municipio`),side='left',width=5, pad=\"0\")\n",
    "d2019_r$`Cve. Municipio`<-str_pad(string=as.character(d2019_r$`Cve. Municipio`),side='left',width=5, pad=\"0\")\n",
    "d052020_r$`Cve. Municipio`<-str_pad(string=as.character(d052020_r$`Cve. Municipio`),side='left',width=5, pad=\"0\")"
   ]
  },
  {
   "cell_type": "code",
   "execution_count": 45,
   "metadata": {},
   "outputs": [],
   "source": [
    "names(confirmados)[1]<-\"CV_MUN\"\n",
    "names(defunciones)[1]<-\"CV_MUN\"\n",
    "names(d2015_h)[1]<-\"CV_MUN\"\n",
    "names(d2016_h)[1]<-\"CV_MUN\"\n",
    "names(d2017_h)[1]<-\"CV_MUN\"\n",
    "names(d2018_h)[1]<-\"CV_MUN\"\n",
    "names(d2019_h)[1]<-\"CV_MUN\"\n",
    "names(d052020_h)[1]<-\"CV_MUN\"\n",
    "names(d2015_r)[1]<-\"CV_MUN\"\n",
    "names(d2016_r)[1]<-\"CV_MUN\"\n",
    "names(d2017_r)[1]<-\"CV_MUN\"\n",
    "names(d2018_r)[1]<-\"CV_MUN\"\n",
    "names(d2019_r)[1]<-\"CV_MUN\"\n",
    "names(d052020_r)[1]<-\"CV_MUN\""
   ]
  },
  {
   "cell_type": "markdown",
   "metadata": {},
   "source": [
    "Nos quedamos solo con los casos confirmados totales y defunciones totales por municipio:"
   ]
  },
  {
   "cell_type": "code",
   "execution_count": 46,
   "metadata": {},
   "outputs": [],
   "source": [
    "confirmados<-confirmados[,c(1:3,192)]\n",
    "defunciones<-defunciones[,c(1,127)]"
   ]
  },
  {
   "cell_type": "code",
   "execution_count": 47,
   "metadata": {},
   "outputs": [],
   "source": [
    "datos<-left_join(df_inf, confirmados, by=\"CV_MUN\")\n",
    "datos<-left_join(datos, defunciones, by=\"CV_MUN\")"
   ]
  },
  {
   "cell_type": "code",
   "execution_count": 48,
   "metadata": {},
   "outputs": [
    {
     "data": {
      "text/html": [
       "<table>\n",
       "<thead><tr><th scope=col>CV_MUN</th><th scope=col>precio_mean</th><th scope=col>salario_mean</th><th scope=col>poblacion</th><th scope=col>nombre</th><th scope=col>confirmados_total</th><th scope=col>defunciones_total</th></tr></thead>\n",
       "<tbody>\n",
       "\t<tr><td>01001              </td><td>450371.7           </td><td>4.767035           </td><td>961977             </td><td>Aguascalientes     </td><td>2465               </td><td>173                </td></tr>\n",
       "\t<tr><td>01002              </td><td>351536.1           </td><td>3.952249           </td><td> 50864             </td><td>Asientos           </td><td>  48               </td><td>  5                </td></tr>\n",
       "\t<tr><td>01003              </td><td>418039.4           </td><td>3.360099           </td><td> 60760             </td><td>Calvillo           </td><td>  84               </td><td>  1                </td></tr>\n",
       "\t<tr><td>01004              </td><td>368355.9           </td><td>3.782037           </td><td> 16918             </td><td>Cosio              </td><td>  49               </td><td>  0                </td></tr>\n",
       "\t<tr><td>01005              </td><td>672823.9           </td><td>7.371576           </td><td>130184             </td><td>Jesus Maria        </td><td> 104               </td><td>  2                </td></tr>\n",
       "\t<tr><td>01006              </td><td>388481.6           </td><td>4.334164           </td><td> 50032             </td><td>Pabellon de Arteaga</td><td> 113               </td><td>  6                </td></tr>\n",
       "</tbody>\n",
       "</table>\n"
      ],
      "text/latex": [
       "\\begin{tabular}{r|lllllll}\n",
       " CV\\_MUN & precio\\_mean & salario\\_mean & poblacion & nombre & confirmados\\_total & defunciones\\_total\\\\\n",
       "\\hline\n",
       "\t 01001               & 450371.7            & 4.767035            & 961977              & Aguascalientes      & 2465                & 173                \\\\\n",
       "\t 01002               & 351536.1            & 3.952249            &  50864              & Asientos            &   48                &   5                \\\\\n",
       "\t 01003               & 418039.4            & 3.360099            &  60760              & Calvillo            &   84                &   1                \\\\\n",
       "\t 01004               & 368355.9            & 3.782037            &  16918              & Cosio               &   49                &   0                \\\\\n",
       "\t 01005               & 672823.9            & 7.371576            & 130184              & Jesus Maria         &  104                &   2                \\\\\n",
       "\t 01006               & 388481.6            & 4.334164            &  50032              & Pabellon de Arteaga &  113                &   6                \\\\\n",
       "\\end{tabular}\n"
      ],
      "text/markdown": [
       "\n",
       "| CV_MUN | precio_mean | salario_mean | poblacion | nombre | confirmados_total | defunciones_total |\n",
       "|---|---|---|---|---|---|---|\n",
       "| 01001               | 450371.7            | 4.767035            | 961977              | Aguascalientes      | 2465                | 173                 |\n",
       "| 01002               | 351536.1            | 3.952249            |  50864              | Asientos            |   48                |   5                 |\n",
       "| 01003               | 418039.4            | 3.360099            |  60760              | Calvillo            |   84                |   1                 |\n",
       "| 01004               | 368355.9            | 3.782037            |  16918              | Cosio               |   49                |   0                 |\n",
       "| 01005               | 672823.9            | 7.371576            | 130184              | Jesus Maria         |  104                |   2                 |\n",
       "| 01006               | 388481.6            | 4.334164            |  50032              | Pabellon de Arteaga |  113                |   6                 |\n",
       "\n"
      ],
      "text/plain": [
       "  CV_MUN precio_mean salario_mean poblacion nombre             \n",
       "1 01001  450371.7    4.767035     961977    Aguascalientes     \n",
       "2 01002  351536.1    3.952249      50864    Asientos           \n",
       "3 01003  418039.4    3.360099      60760    Calvillo           \n",
       "4 01004  368355.9    3.782037      16918    Cosio              \n",
       "5 01005  672823.9    7.371576     130184    Jesus Maria        \n",
       "6 01006  388481.6    4.334164      50032    Pabellon de Arteaga\n",
       "  confirmados_total defunciones_total\n",
       "1 2465              173              \n",
       "2   48                5              \n",
       "3   84                1              \n",
       "4   49                0              \n",
       "5  104                2              \n",
       "6  113                6              "
      ]
     },
     "metadata": {},
     "output_type": "display_data"
    },
    {
     "data": {
      "text/html": [
       "<ol class=list-inline>\n",
       "\t<li>1517</li>\n",
       "\t<li>7</li>\n",
       "</ol>\n"
      ],
      "text/latex": [
       "\\begin{enumerate*}\n",
       "\\item 1517\n",
       "\\item 7\n",
       "\\end{enumerate*}\n"
      ],
      "text/markdown": [
       "1. 1517\n",
       "2. 7\n",
       "\n",
       "\n"
      ],
      "text/plain": [
       "[1] 1517    7"
      ]
     },
     "metadata": {},
     "output_type": "display_data"
    }
   ],
   "source": [
    "names(datos)[6]<-\"confirmados_total\"\n",
    "names(datos)[7]<-\"defunciones_total\"\n",
    "head(datos)\n",
    "dim(datos)"
   ]
  },
  {
   "cell_type": "markdown",
   "metadata": {},
   "source": [
    "Construimos la tasa promedio de los delitos por cada cien mil habitantes:"
   ]
  },
  {
   "cell_type": "code",
   "execution_count": 49,
   "metadata": {},
   "outputs": [],
   "source": [
    "poblacion<-datos[,c(1,4)]"
   ]
  },
  {
   "cell_type": "code",
   "execution_count": 50,
   "metadata": {},
   "outputs": [],
   "source": [
    "d2015_h<-left_join(poblacion, d2015_h, by=\"CV_MUN\")\n",
    "d2015_h<-d2015_h %>% mutate(ts_15_h=(total_h/poblacion)*100000)\n",
    "\n",
    "d2016_h<-left_join(poblacion, d2016_h, by=\"CV_MUN\")\n",
    "d2016_h<-d2016_h %>% mutate(ts_16_h=(total_h/poblacion)*100000)\n",
    "\n",
    "d2017_h<-left_join(poblacion, d2017_h, by=\"CV_MUN\")\n",
    "d2017_h<-d2017_h %>% mutate(ts_17_h=(total_h/poblacion)*100000)\n",
    "\n",
    "d2018_h<-left_join(poblacion, d2018_h, by=\"CV_MUN\")\n",
    "d2018_h<-d2018_h %>% mutate(ts_18_h=(total_h/poblacion)*100000)\n",
    "\n",
    "d2019_h<-left_join(poblacion, d2019_h, by=\"CV_MUN\")\n",
    "d2019_h<-d2019_h %>% mutate(ts_19_h=(total_h/poblacion)*100000)\n",
    "\n",
    "d052020_h<-left_join(poblacion, d052020_h, by=\"CV_MUN\")\n",
    "d052020_h<-d052020_h %>% mutate(ts_20_h=(total_h/poblacion)*100000)"
   ]
  },
  {
   "cell_type": "code",
   "execution_count": 51,
   "metadata": {},
   "outputs": [],
   "source": [
    "d2015_r<-left_join(poblacion, d2015_r, by=\"CV_MUN\")\n",
    "d2015_r<-d2015_r %>% mutate(ts_15_r=(total_r/poblacion)*100000)\n",
    "\n",
    "d2016_r<-left_join(poblacion, d2016_r, by=\"CV_MUN\")\n",
    "d2016_r<-d2016_r %>% mutate(ts_16_r=(total_r/poblacion)*100000)\n",
    "\n",
    "d2017_r<-left_join(poblacion, d2017_r, by=\"CV_MUN\")\n",
    "d2017_r<-d2017_r %>% mutate(ts_17_r=(total_r/poblacion)*100000)\n",
    "\n",
    "d2018_r<-left_join(poblacion, d2018_r, by=\"CV_MUN\")\n",
    "d2018_r<-d2018_r %>% mutate(ts_18_r=(total_r/poblacion)*100000)\n",
    "\n",
    "d2019_r<-left_join(poblacion, d2019_r, by=\"CV_MUN\")\n",
    "d2019_r<-d2019_r %>% mutate(ts_19_r=(total_r/poblacion)*100000)\n",
    "\n",
    "d052020_r<-left_join(poblacion, d052020_r, by=\"CV_MUN\")\n",
    "d052020_r<-d052020_r %>% mutate(ts_20_r=(total_r/poblacion)*100000)"
   ]
  },
  {
   "cell_type": "code",
   "execution_count": 52,
   "metadata": {},
   "outputs": [],
   "source": [
    "delitos<-left_join(d2015_h,d2016_h,by=\"CV_MUN\")\n",
    "delitos<-left_join(delitos,d2017_h,by=\"CV_MUN\")\n",
    "delitos<-left_join(delitos,d2018_h,by=\"CV_MUN\")\n",
    "delitos<-left_join(delitos,d2019_h,by=\"CV_MUN\")\n",
    "delitos<-left_join(delitos,d052020_h,by=\"CV_MUN\")\n",
    "delitos<-left_join(delitos,d2015_r,by=\"CV_MUN\")\n",
    "delitos<-left_join(delitos,d2016_r,by=\"CV_MUN\")\n",
    "delitos<-left_join(delitos,d2017_r,by=\"CV_MUN\")\n",
    "delitos<-left_join(delitos,d2018_r,by=\"CV_MUN\")\n",
    "delitos<-left_join(delitos,d2019_r,by=\"CV_MUN\")\n",
    "delitos<-left_join(delitos,d052020_r,by=\"CV_MUN\")\n",
    "\n",
    "ts_homicidios<-delitos[,c(\"CV_MUN\",\"ts_15_h\",\"ts_16_h\",\"ts_17_h\",\"ts_18_h\",\"ts_19_h\",\"ts_20_h\")]\n",
    "ts_homicidios$ts_promedio_h<-rowMeans(ts_homicidios[,c(2:7)])\n",
    "ts_robos<-delitos[,c(\"CV_MUN\",\"ts_15_r\",\"ts_16_r\",\"ts_17_r\",\"ts_18_r\",\"ts_19_r\",\"ts_20_r\")]\n",
    "ts_robos$ts_promedio_r<-rowMeans(ts_robos[,c(2:7)])\n",
    "\n",
    "ts_homicidio_promedio<-ts_homicidios[,c(1,8)]\n",
    "ts_robo_promedio<-ts_robos[,c(1,8)]"
   ]
  },
  {
   "cell_type": "code",
   "execution_count": 53,
   "metadata": {},
   "outputs": [],
   "source": [
    "datos<-left_join(datos, ts_homicidio_promedio, by=\"CV_MUN\")\n",
    "datos<-left_join(datos, ts_robo_promedio, by=\"CV_MUN\")"
   ]
  },
  {
   "cell_type": "markdown",
   "metadata": {},
   "source": [
    "Por último, se une la información de pobreza de CONEVAL:"
   ]
  },
  {
   "cell_type": "code",
   "execution_count": 54,
   "metadata": {},
   "outputs": [
    {
     "data": {
      "text/html": [
       "<table>\n",
       "<thead><tr><th scope=col>CV_MUN</th><th scope=col>precio_mean</th><th scope=col>salario_mean</th><th scope=col>poblacion</th><th scope=col>nombre</th><th scope=col>confirmados_total</th><th scope=col>defunciones_total</th><th scope=col>ts_promedio_h</th><th scope=col>ts_promedio_r</th><th scope=col>Entidad</th><th scope=col>Nombre_ent</th><th scope=col>pob_porc_2015</th><th scope=col>pob_per_2015</th></tr></thead>\n",
       "<tbody>\n",
       "\t<tr><td>01001              </td><td>450371.7           </td><td>4.767035           </td><td>961977             </td><td>Aguascalientes     </td><td>2465               </td><td>173                </td><td>13.99895           </td><td>225.47317          </td><td>01                 </td><td>Aguascalientes     </td><td>26.1               </td><td>224,949            </td></tr>\n",
       "\t<tr><td>01002              </td><td>351536.1           </td><td>3.952249           </td><td> 50864             </td><td>Asientos           </td><td>  48               </td><td>  5                </td><td>22.60931           </td><td> 35.06082          </td><td>01                 </td><td>Aguascalientes     </td><td>54.0               </td><td>25,169             </td></tr>\n",
       "\t<tr><td>01003              </td><td>418039.4           </td><td>3.360099           </td><td> 60760             </td><td>Calvillo           </td><td>  84               </td><td>  1                </td><td>17.55541           </td><td> 58.42660          </td><td>01                 </td><td>Aguascalientes     </td><td>56.8               </td><td>29,951             </td></tr>\n",
       "\t<tr><td>01004              </td><td>368355.9           </td><td>3.782037           </td><td> 16918             </td><td>Cosio              </td><td>  49               </td><td>  0                </td><td>20.68802           </td><td> 45.31663          </td><td>01                 </td><td>Aguascalientes     </td><td>43.2               </td><td>6,620              </td></tr>\n",
       "\t<tr><td>01005              </td><td>672823.9           </td><td>7.371576           </td><td>130184             </td><td>Jesus Maria        </td><td> 104               </td><td>  2                </td><td>16.38706           </td><td>114.83746          </td><td>01                 </td><td>Aguascalientes     </td><td>25.0               </td><td>31,479             </td></tr>\n",
       "\t<tr><td>01006              </td><td>388481.6           </td><td>4.334164           </td><td> 50032             </td><td>Pabellon de Arteaga</td><td> 113               </td><td>  6                </td><td>17.32225           </td><td> 54.96482          </td><td>01                 </td><td>Aguascalientes     </td><td>34.9               </td><td>15,972             </td></tr>\n",
       "</tbody>\n",
       "</table>\n"
      ],
      "text/latex": [
       "\\begin{tabular}{r|lllllllllllll}\n",
       " CV\\_MUN & precio\\_mean & salario\\_mean & poblacion & nombre & confirmados\\_total & defunciones\\_total & ts\\_promedio\\_h & ts\\_promedio\\_r & Entidad & Nombre\\_ent & pob\\_porc\\_2015 & pob\\_per\\_2015\\\\\n",
       "\\hline\n",
       "\t 01001               & 450371.7            & 4.767035            & 961977              & Aguascalientes      & 2465                & 173                 & 13.99895            & 225.47317           & 01                  & Aguascalientes      & 26.1                & 224,949            \\\\\n",
       "\t 01002               & 351536.1            & 3.952249            &  50864              & Asientos            &   48                &   5                 & 22.60931            &  35.06082           & 01                  & Aguascalientes      & 54.0                & 25,169             \\\\\n",
       "\t 01003               & 418039.4            & 3.360099            &  60760              & Calvillo            &   84                &   1                 & 17.55541            &  58.42660           & 01                  & Aguascalientes      & 56.8                & 29,951             \\\\\n",
       "\t 01004               & 368355.9            & 3.782037            &  16918              & Cosio               &   49                &   0                 & 20.68802            &  45.31663           & 01                  & Aguascalientes      & 43.2                & 6,620              \\\\\n",
       "\t 01005               & 672823.9            & 7.371576            & 130184              & Jesus Maria         &  104                &   2                 & 16.38706            & 114.83746           & 01                  & Aguascalientes      & 25.0                & 31,479             \\\\\n",
       "\t 01006               & 388481.6            & 4.334164            &  50032              & Pabellon de Arteaga &  113                &   6                 & 17.32225            &  54.96482           & 01                  & Aguascalientes      & 34.9                & 15,972             \\\\\n",
       "\\end{tabular}\n"
      ],
      "text/markdown": [
       "\n",
       "| CV_MUN | precio_mean | salario_mean | poblacion | nombre | confirmados_total | defunciones_total | ts_promedio_h | ts_promedio_r | Entidad | Nombre_ent | pob_porc_2015 | pob_per_2015 |\n",
       "|---|---|---|---|---|---|---|---|---|---|---|---|---|\n",
       "| 01001               | 450371.7            | 4.767035            | 961977              | Aguascalientes      | 2465                | 173                 | 13.99895            | 225.47317           | 01                  | Aguascalientes      | 26.1                | 224,949             |\n",
       "| 01002               | 351536.1            | 3.952249            |  50864              | Asientos            |   48                |   5                 | 22.60931            |  35.06082           | 01                  | Aguascalientes      | 54.0                | 25,169              |\n",
       "| 01003               | 418039.4            | 3.360099            |  60760              | Calvillo            |   84                |   1                 | 17.55541            |  58.42660           | 01                  | Aguascalientes      | 56.8                | 29,951              |\n",
       "| 01004               | 368355.9            | 3.782037            |  16918              | Cosio               |   49                |   0                 | 20.68802            |  45.31663           | 01                  | Aguascalientes      | 43.2                | 6,620               |\n",
       "| 01005               | 672823.9            | 7.371576            | 130184              | Jesus Maria         |  104                |   2                 | 16.38706            | 114.83746           | 01                  | Aguascalientes      | 25.0                | 31,479              |\n",
       "| 01006               | 388481.6            | 4.334164            |  50032              | Pabellon de Arteaga |  113                |   6                 | 17.32225            |  54.96482           | 01                  | Aguascalientes      | 34.9                | 15,972              |\n",
       "\n"
      ],
      "text/plain": [
       "  CV_MUN precio_mean salario_mean poblacion nombre             \n",
       "1 01001  450371.7    4.767035     961977    Aguascalientes     \n",
       "2 01002  351536.1    3.952249      50864    Asientos           \n",
       "3 01003  418039.4    3.360099      60760    Calvillo           \n",
       "4 01004  368355.9    3.782037      16918    Cosio              \n",
       "5 01005  672823.9    7.371576     130184    Jesus Maria        \n",
       "6 01006  388481.6    4.334164      50032    Pabellon de Arteaga\n",
       "  confirmados_total defunciones_total ts_promedio_h ts_promedio_r Entidad\n",
       "1 2465              173               13.99895      225.47317     01     \n",
       "2   48                5               22.60931       35.06082     01     \n",
       "3   84                1               17.55541       58.42660     01     \n",
       "4   49                0               20.68802       45.31663     01     \n",
       "5  104                2               16.38706      114.83746     01     \n",
       "6  113                6               17.32225       54.96482     01     \n",
       "  Nombre_ent     pob_porc_2015 pob_per_2015\n",
       "1 Aguascalientes 26.1          224,949     \n",
       "2 Aguascalientes 54.0          25,169      \n",
       "3 Aguascalientes 56.8          29,951      \n",
       "4 Aguascalientes 43.2          6,620       \n",
       "5 Aguascalientes 25.0          31,479      \n",
       "6 Aguascalientes 34.9          15,972      "
      ]
     },
     "metadata": {},
     "output_type": "display_data"
    }
   ],
   "source": [
    "datos<-left_join(datos, coneval, by=\"CV_MUN\")\n",
    "head(datos)"
   ]
  },
  {
   "cell_type": "code",
   "execution_count": 55,
   "metadata": {},
   "outputs": [
    {
     "data": {
      "text/html": [
       "<ol class=list-inline>\n",
       "\t<li>1517</li>\n",
       "\t<li>13</li>\n",
       "</ol>\n"
      ],
      "text/latex": [
       "\\begin{enumerate*}\n",
       "\\item 1517\n",
       "\\item 13\n",
       "\\end{enumerate*}\n"
      ],
      "text/markdown": [
       "1. 1517\n",
       "2. 13\n",
       "\n",
       "\n"
      ],
      "text/plain": [
       "[1] 1517   13"
      ]
     },
     "metadata": {},
     "output_type": "display_data"
    }
   ],
   "source": [
    "dim(datos)"
   ]
  },
  {
   "cell_type": "code",
   "execution_count": 56,
   "metadata": {},
   "outputs": [],
   "source": [
    "write.csv(datos, \"Datos/datos.csv\")"
   ]
  }
 ],
 "metadata": {
  "kernelspec": {
   "display_name": "R",
   "language": "R",
   "name": "ir"
  },
  "language_info": {
   "codemirror_mode": "r",
   "file_extension": ".r",
   "mimetype": "text/x-r-source",
   "name": "R",
   "pygments_lexer": "r",
   "version": "3.6.1"
  }
 },
 "nbformat": 4,
 "nbformat_minor": 4
}
